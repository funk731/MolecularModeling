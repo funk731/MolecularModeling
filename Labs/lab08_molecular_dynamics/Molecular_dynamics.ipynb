{
 "cells": [
  {
   "cell_type": "markdown",
   "metadata": {},
   "source": [
    "[![Open In Colab](https://colab.research.google.com/assets/colab-badge.svg)](https://colab.research.google.com/github/eneskelestemur/MolecularModeling/blob/main/Labs/lab08_molecular_dynamics/Molecular_dynamics.ipynb)"
   ]
  },
  {
   "cell_type": "markdown",
   "metadata": {},
   "source": [
    "In this exercise, we'll use `openmm`, `openforcefields`, `openff-toolkit` and `mdanalysis` packages. Their recommended way of installation is through Ancaonda/Miniconda, so before starting this notebook prepare the environment using Anaconda. \n",
    "\n",
    "If running in Google Colab, run the following code first."
   ]
  },
  {
   "cell_type": "code",
   "execution_count": null,
   "metadata": {},
   "outputs": [],
   "source": [
    "# Only for Google Colab\n",
    "!pip install -q condacolab\n",
    "import condacolab\n",
    "condacolab.install()"
   ]
  },
  {
   "cell_type": "code",
   "execution_count": null,
   "metadata": {},
   "outputs": [],
   "source": [
    "# Only for Google Colab\n",
    "!mamba install -c conda-forge openmm openmmforcefileds openff-toolkit pdbfixer mdanalysis nglview pandas matplotlib -y"
   ]
  },
  {
   "cell_type": "markdown",
   "metadata": {},
   "source": [
    "# Molecular Dynamics Using Openmm\n",
    "\n",
    "In this lab, we will demonstrate Molecular Dynamics Simulation and its analysis in Python.\n",
    "\n",
    "* [Estrogen](#estrogen)\n",
    "* [Estrogen-Raloxifene](#estrogen-raloxifene)\n",
    "* [Ras-Raf](#ras-raf)"
   ]
  },
  {
   "cell_type": "markdown",
   "metadata": {},
   "source": [
    "## Estrogen\n",
    "\n",
    "The first example will be a simple protein only system. We will simulate Estrogen protein for a short amount of time analyze the simulation run afterwards."
   ]
  },
  {
   "cell_type": "code",
   "execution_count": null,
   "metadata": {},
   "outputs": [],
   "source": [
    "# Let's visualize the protein using NGLView\n",
    "import nglview as nv\n",
    "import MDAnalysis as mda\n",
    "\n",
    "# Load the protein structure\n",
    "estrogen = 'data/Estrogen_Receptor.pdb'\n",
    "u = mda.Universe(estrogen)\n",
    "nv.show_mdanalysis(u, gui=True)"
   ]
  },
  {
   "cell_type": "markdown",
   "metadata": {},
   "source": [
    "### Basic MD Setup"
   ]
  },
  {
   "cell_type": "code",
   "execution_count": null,
   "metadata": {},
   "outputs": [],
   "source": [
    "import openmm.app as app\n",
    "import openmm as mm\n",
    "from openmm import unit\n",
    "from sys import stdout\n",
    "\n",
    "# Set the path to the PDB file\n",
    "estrogen_file = 'data/Estrogen_Receptor.pdb'\n",
    "traj_output_file = 'data/Estrogen_Receptor.pdb'\n",
    "state_output_file = 'data/Estrogen_Receptor.log'\n",
    "\n",
    "# 1.loading initial coordinates\n",
    "pdb = app.PDBFile(estrogen_file)\n",
    "\n",
    "# 2.choosing a forcefield parameters\n",
    "ff = app.ForceField('amber14-all.xml')\n",
    "system = ff.createSystem(pdb.topology, nonbondedMethod=app.CutoffNonPeriodic)\n",
    "\n",
    "# 3. Choose parameters of the experiment: temperature, pressure, box size, solvation, boundary conditions, etc\n",
    "temperature = 300*unit.kelvin\n",
    "frictionCoeff = 1/unit.picosecond\n",
    "time_step = 0.002*unit.picoseconds\n",
    "total_steps = 400*unit.picoseconds / time_step\n",
    "\n",
    "# 4. Choose an algorithm (integrator)\n",
    "integrator = mm.LangevinIntegrator(temperature, frictionCoeff, time_step)\n",
    "\n",
    "# 5. Run simulation, saving coordinates time to time:\n",
    "\n",
    "# 5a. Create a simulation object\n",
    "simulation = app.Simulation(pdb.topology, system, integrator)\n",
    "simulation.context.setPositions(pdb.positions)\n",
    "\n",
    "# 5b. Minimize energy\n",
    "simulation.minimizeEnergy()\n",
    "\n",
    "# 5c. Save coordinates to pdb file and energies to a standard output console:\n",
    "simulation.reporters.append(app.PDBReporter(traj_output_file, 1000))\n",
    "simulation.reporters.append(app.StateDataReporter(state_output_file, 5000, step=True, potentialEnergy=True,\n",
    "                                                  temperature=True, progress=True, totalSteps = total_steps))\n",
    "\n",
    "# 5d. Run!\n",
    "simulation.step(total_steps)\n"
   ]
  },
  {
   "cell_type": "code",
   "execution_count": null,
   "metadata": {},
   "outputs": [],
   "source": [
    "# 6. Visualization\n",
    "u = mda.Universe(estrogen_file, traj_output_file)\n",
    "nv.show_mdanalysis(u, gui=True)"
   ]
  },
  {
   "cell_type": "markdown",
   "metadata": {},
   "source": [
    "### Analyzing the Simulation"
   ]
  },
  {
   "cell_type": "code",
   "execution_count": null,
   "metadata": {},
   "outputs": [],
   "source": [
    "import MDAnalysis as mda\n",
    "import pandas as pd\n",
    "import matplotlib.pyplot as plt\n",
    "\n",
    "# Plot state data\n",
    "def plot_StateData(data_file, names_to_plot, \n",
    "                   sim_step_size=0.002, \n",
    "                   report_interval=1000):\n",
    "    n_names = len(names_to_plot)\n",
    "    data = pd.read_csv(data_file, index_col=None)\n",
    "    try:\n",
    "        sim_time = data['Step'] * sim_step_size / report_interval # ns\n",
    "    except KeyError:\n",
    "        sim_time = data['#\"Step\"'] * sim_step_size / report_interval # ns\n",
    "    fig = plt.figure(figsize=(20, 10))\n",
    "    for i, name in enumerate(names_to_plot):\n",
    "        ax = fig.add_subplot((n_names+1)//2, 2, i+1)\n",
    "        ax.plot(sim_time, data[name])\n",
    "        ax.set_xlabel('Time (ns)')\n",
    "        ax.set_ylabel(name)\n",
    "    fig.tight_layout()\n",
    "    plt.show()\n",
    "\n",
    "plot_StateData(\n",
    "    state_output_file,\n",
    "    ['Potential Energy (kJ/mole)', 'Total Energy (kJ/mole)', 'Temperature (K)', 'Density (g/mL)']\n",
    ")"
   ]
  },
  {
   "cell_type": "code",
   "execution_count": null,
   "metadata": {},
   "outputs": [],
   "source": [
    "from MDAnalysis.analysis import rms, align\n",
    "\n",
    "## RMSD calculation\n",
    "# calculate rmsd\n",
    "R = rms.RMSD(u,  # universe to align\n",
    "             u,  # reference universe or atomgroup\n",
    "             select='backbone',  # group to superimpose and calculate RMSD\n",
    "             groupselections=['segid A'],  # groups for RMSD\n",
    "             ref_frame=0)  # frame index of the reference\n",
    "R.run()\n",
    "\n",
    "## RMSF Analysis\n",
    "# create the average structure of the trajectory\n",
    "average = align.AverageStructure(u, u, select='protein and name CA',\n",
    "                                 ref_frame=0).run()\n",
    "ref = average.results.universe\n",
    "# Align the trajectory to the reference\n",
    "aligner = align.AlignTraj(u, ref,\n",
    "                          select='protein and name CA',\n",
    "                          in_memory=True).run()\n",
    "\n",
    "# Calculate RMSF\n",
    "c_alphas = u.select_atoms('protein and name CA')\n",
    "F = rms.RMSF(c_alphas).run()"
   ]
  },
  {
   "cell_type": "code",
   "execution_count": null,
   "metadata": {},
   "outputs": [],
   "source": [
    "# plot the RMSD for the protein\n",
    "fig = plt.figure(figsize=(15,5))\n",
    "ax = fig.add_subplot(121)\n",
    "ax.plot(R.results.rmsd[:,0], R.results.rmsd[:,2], label=\"Backbone\")\n",
    "ax.set_xlabel(\"Frame\")\n",
    "ax.set_ylabel(r'RMSD ($\\AA$)')\n",
    "ax.legend()\n",
    "\n",
    "# plot RMSF for the protein\n",
    "ax = fig.add_subplot(122)\n",
    "ax.plot(c_alphas.resids, F.results.rmsf)\n",
    "ax.set_xlabel(\"Residue Number\")\n",
    "ax.set_ylabel(\"RMSF ($\\AA$)\")\n",
    "ax.legend()\n",
    "fig.show()"
   ]
  },
  {
   "cell_type": "code",
   "execution_count": null,
   "metadata": {},
   "outputs": [],
   "source": [
    "from MDAnalysis.analysis import diffusionmap\n",
    "\n",
    "## Plot pairwise RMSD\n",
    "# load the trajectory\n",
    "u = mda.Universe(estrogen_file, traj_output_file, all_coordinates=True)\n",
    "\n",
    "# align the trajectory to the first frame\n",
    "align.AlignTraj(u, u, select='backbone', in_memory=True).run()\n",
    "\n",
    "# calculate the pairwise RMSD\n",
    "matrix = diffusionmap.DistanceMatrix(u, select='all').run()\n",
    "res = matrix.results.dist_matrix\n",
    "\n",
    "# plot the pairwise RMSD\n",
    "fig = plt.figure(figsize=(12, 9), dpi=150)\n",
    "ax = fig.add_subplot(111)\n",
    "ax.imshow(res, cmap='viridis')\n",
    "ax.set_xlabel('Frame')\n",
    "ax.set_ylabel('Frame')\n",
    "fig.colorbar(mappable=ax.imshow(res, cmap='viridis'), label='RMSD (Å)')\n",
    "fig.tight_layout()\n",
    "fig.show()"
   ]
  }
 ],
 "metadata": {
  "kernelspec": {
   "display_name": "MolecularModeling",
   "language": "python",
   "name": "python3"
  },
  "language_info": {
   "name": "python",
   "version": "3.12.4"
  }
 },
 "nbformat": 4,
 "nbformat_minor": 2
}
