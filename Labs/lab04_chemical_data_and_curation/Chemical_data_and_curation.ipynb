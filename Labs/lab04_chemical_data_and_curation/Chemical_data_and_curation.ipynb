{
 "cells": [
  {
   "cell_type": "markdown",
   "metadata": {},
   "source": [
    "[![Open In Colab](https://colab.research.google.com/assets/colab-badge.svg)](https://colab.research.google.com/github/eneskelestemur/MolecularModeling/blob/main/Labs/lab04_chemical_data_and_curation/Chemical_data_and_curation.ipynb)"
   ]
  },
  {
   "cell_type": "code",
   "execution_count": null,
   "metadata": {},
   "outputs": [],
   "source": [
    "# packages that need to be installed\n",
    "%pip install rdkit numpy pandas matplotlib seaborn scikit-learn"
   ]
  },
  {
   "cell_type": "markdown",
   "metadata": {},
   "source": [
    "# Chemical Data and Data Curation\n",
    "\n",
    "**Topics:**\n",
    "\n",
    "* [Chemical Data](#chemical-data)\n",
    "* [Data Curation](#data-curation)"
   ]
  },
  {
   "cell_type": "markdown",
   "metadata": {},
   "source": [
    "## Chemical Data\n",
    "\n",
    "### Table of Contents\n",
    "\n",
    "1. [Chemical Data in Python](#chemical-data-in-python)\n",
    "2. [Data Summary and Visualizations](#data-summary-and-visualizations)"
   ]
  },
  {
   "cell_type": "markdown",
   "metadata": {},
   "source": [
    "### Chemical Data in Python\n",
    "\n",
    "Chemical data can be stored in various formats such as SMILES strings, molecular structures (2D or 3D), and chemical identifiers. In Python, libraries such as RDKit allow importing these formats for analysis. Chemical data can be read from files like CSV, SDF, or directly from chemical databases (like PubChem). RDKit converts SMILES into molecular structures, making it easier to calculate descriptors and perform further analysis.\n",
    "\n",
    "In the following code we will go through a simple example of importing and preprocessing data in Python. Two datasets that we will discover can be found in `data` folder. These solubility datasets are downloaded through Biogen and TDC."
   ]
  },
  {
   "cell_type": "code",
   "execution_count": null,
   "metadata": {},
   "outputs": [],
   "source": [
    "import pandas as pd\n",
    "import numpy as np\n",
    "from rdkit import Chem\n",
    "from rdkit.Chem import Descriptors\n",
    "\n",
    "# conversion function for data1\n",
    "def convert_to_logS(log_sol, mw):\n",
    "    # solubility is in log(ug/mL)\n",
    "    sol = 10**log_sol           # ug/mL\n",
    "    uM = sol * 1000 / mw        # uM\n",
    "    logS = np.log10(uM*1e-6)         # log(uM)\n",
    "    return logS\n",
    "\n",
    "# load and preprocess data1\n",
    "df1 = pd.read_csv('data/solubility_data1.csv', usecols=['SMILES', 'LOG SOLUBILITY PH 6.8 (ug/mL)'])\n",
    "df1 = df1.rename(columns={'LOG SOLUBILITY PH 6.8 (ug/mL)': 'LogS'}) # we need to convert to LogS\n",
    "df1 = df1.dropna()\n",
    "df1['SMILES'] = df1['SMILES'].apply(Chem.CanonSmiles)\n",
    "df1['Mol'] = df1['SMILES'].apply(Chem.MolFromSmiles)\n",
    "df1['MW'] = df1['Mol'].apply(Descriptors.MolWt)\n",
    "df1['LogS'] = df1.apply(lambda x: convert_to_logS(x['LogS'], x['MW']), axis=1)\n",
    "\n",
    "# load and preprocess data2\n",
    "df2 = pd.read_csv('data/solubility_data2.tab', sep='\\t', usecols=['Drug', 'Y'])\n",
    "df2 = df2.rename(columns={'Drug': 'SMILES', 'Y':'LogS'})\n",
    "df2 = df2.dropna()\n",
    "df2['SMILES'] = df2['SMILES'].apply(Chem.CanonSmiles)\n",
    "df2['Mol'] = df2['SMILES'].apply(Chem.MolFromSmiles)\n",
    "df2['MW'] = df2['Mol'].apply(Descriptors.MolWt)\n"
   ]
  },
  {
   "cell_type": "markdown",
   "metadata": {},
   "source": [
    "### Data Summary and Visualizations\n",
    "\n",
    "Summarizing and visualizing chemical data is essential for understanding its structure and detecting potential issues like outliers or trends.\n",
    "\n",
    "1. Data Summary: Statistical summaries (mean, median, range) of molecular properties like molecular weight or log solubility help provide a snapshot of the dataset’s characteristics and identify outliers.\n",
    "\n",
    "2. Importance of Visualization: Visualizations, such as histograms and scatter plots, reveal patterns and relationships between variables that might not be apparent from summary statistics alone. For instance, histograms show distributions, and scatter plots help identify correlations between descriptors like molecular weight and solubility.\n",
    "\n",
    "3. Detecting Outliers: Box plots and scatter plots can highlight extreme values, allowing for early detection of outliers that may need to be removed or adjusted to avoid skewing the models.\n",
    "\n",
    "4. Understanding Data Structure: Visualization tools provide insights into descriptor relationships and dataset composition, helping guide data cleaning, feature selection, and preprocessing decisions, which ultimately improve model accuracy.\n",
    "\n",
    "By summarizing and visualizing data, you gain a clearer understanding of its quality and readiness for modeling."
   ]
  },
  {
   "cell_type": "code",
   "execution_count": null,
   "metadata": {},
   "outputs": [],
   "source": [
    "import matplotlib.pyplot as plt\n",
    "\n",
    "# Before we start, let's check if there are any overlapping \n",
    "# molecules between the two datasets. Since these are from \n",
    "# different sources, it is important to check if the labels\n",
    "# are consistent between the two datasets.\n",
    "\n",
    "# check for overlapping molecules\n",
    "overlap = df1['SMILES'].isin(df2['SMILES'])\n",
    "print(f'Number of overlapping molecules: {overlap.sum()}')\n",
    "\n",
    "# There are 8 overlapping molecules, let's take a look \n",
    "# if the labels correlate between the two datasets\n",
    "overlap_data = df1[overlap].merge(df2, on='SMILES', suffixes=('_data1', '_data2'))\n",
    "\n",
    "plt.scatter(overlap_data['LogS_data1'], overlap_data['LogS_data2'])\n",
    "plt.xlabel('LogS_data1')\n",
    "plt.ylabel('LogS_data2')\n",
    "plt.title('Overlapping molecules')\n",
    "plt.show()"
   ]
  },
  {
   "cell_type": "code",
   "execution_count": null,
   "metadata": {},
   "outputs": [],
   "source": [
    "# The labels do not look great, but we don't have a lot of overlapping\n",
    "# molecules so we can just keep going.\n",
    "\n",
    "# Merge data1 and data2 to visualize the combined data, but\n",
    "sol_data = pd.concat([df1, df2], axis=0, ignore_index=True)\n",
    "# add a column to indicate the source of the data\n",
    "sol_data['Source'] = ['Data1']*len(df1) + ['Data2']*len(df2)\n",
    "\n",
    "# drop duplicates\n",
    "sol_data = sol_data.drop_duplicates(subset=['SMILES'])\n",
    "print(f'Number of unique molecules: {len(sol_data)}')"
   ]
  },
  {
   "cell_type": "markdown",
   "metadata": {},
   "source": [
    "Now we have the combined data, let's go through different ways of visualizing the data."
   ]
  },
  {
   "cell_type": "code",
   "execution_count": null,
   "metadata": {},
   "outputs": [],
   "source": [
    "import seaborn as sns\n",
    "\n",
    "## Visualize the data\n",
    "# plot the distribution of LogS\n",
    "plt.figure(figsize=(10, 6))\n",
    "sns.histplot(sol_data['LogS'], bins=30, kde=True)\n",
    "plt.title('Distribution of LogS')\n",
    "plt.show()"
   ]
  },
  {
   "cell_type": "code",
   "execution_count": null,
   "metadata": {},
   "outputs": [],
   "source": [
    "import seaborn as sns\n",
    "from rdkit.Chem import Descriptors\n",
    "\n",
    "## let's see if we can find a descriptor that correlates with LogS\n",
    "# let's use our descriptor function from the previous notebook\n",
    "def my_molecular_representation(mol):\n",
    "    mol_weight = Descriptors.MolWt(mol)\n",
    "    log_p = Descriptors.MolLogP(mol)\n",
    "    num_atoms = mol.GetNumAtoms()\n",
    "    num_heavy_atoms = mol.GetNumHeavyAtoms()\n",
    "    num_rings = mol.GetRingInfo().NumRings()\n",
    "    num_rotatable_bonds = Descriptors.NumRotatableBonds(mol)\n",
    "    num_h_donors = Descriptors.NumHDonors(mol)\n",
    "    num_h_acceptors = Descriptors.NumHAcceptors(mol)\n",
    "    feature_vector = [mol_weight, log_p, num_atoms, num_heavy_atoms, \n",
    "                      num_rings, num_rotatable_bonds, num_h_donors, \n",
    "                      num_h_acceptors]\n",
    "    return feature_vector\n",
    "\n",
    "# calculate the descriptors for each molecule\n",
    "descriptor_df = sol_data['Mol'].apply(my_molecular_representation)\n",
    "descriptor_df = pd.DataFrame(descriptor_df.tolist(), \n",
    "                             columns=['MolWt', 'LogP', 'NumAtoms', 'NumHeavyAtoms', 'NumRings', \n",
    "                                      'NumRotatableBonds', 'NumHDonors', 'NumHAcceptors'])\n",
    "descriptor_df['LogS'] = sol_data['LogS'].values\n",
    "\n",
    "# plot the correlation matrix\n",
    "plt.figure(figsize=(8, 6))\n",
    "sns.heatmap(descriptor_df.corr(), annot=True, cmap='coolwarm', vmin=-1, vmax=1)\n",
    "plt.title('Correlation matrix of descriptors')\n",
    "plt.show()"
   ]
  },
  {
   "cell_type": "code",
   "execution_count": null,
   "metadata": {},
   "outputs": [],
   "source": [
    "# logP seems to have a good correlation with LogS, let's visualize it\n",
    "plt.figure(figsize=(8, 6))\n",
    "sns.scatterplot(x='LogP', y='LogS', data=descriptor_df)\n",
    "plt.title('LogP vs LogS')\n",
    "plt.show()"
   ]
  },
  {
   "cell_type": "code",
   "execution_count": null,
   "metadata": {},
   "outputs": [],
   "source": [
    "from sklearn.manifold import TSNE\n",
    "from rdkit.Chem import rdFingerprintGenerator\n",
    "\n",
    "# Let's try to visualize the chemical space of the molecules\n",
    "# using t-SNE with the descriptors\n",
    "# descriptors functions from the previous notebook\n",
    "def get_rdkit_descriptors(mols):\n",
    "    feature_vectors = []\n",
    "    for mol in mols:\n",
    "        desc = []\n",
    "        for desc_name, desc_func in Descriptors._descList:\n",
    "            calculated_desc = desc_func(mol)\n",
    "            desc.append(calculated_desc)\n",
    "        feature_vectors.append(desc)\n",
    "    out = np.nan_to_num(feature_vectors)\n",
    "    return out.tolist()\n",
    "\n",
    "# calculate the descriptors for each molecule\n",
    "sol_data = sol_data.sample(frac=0.05, random_state=42)\n",
    "sol_data['Descriptors'] = get_rdkit_descriptors(sol_data['Mol'])\n",
    "\n",
    "# visualize the chemical space\n",
    "X = np.nan_to_num(sol_data['Descriptors'].tolist())\n",
    "tsne = TSNE(n_components=2, perplexity=10, random_state=42)\n",
    "X_tsne = tsne.fit_transform(X)\n",
    "\n",
    "# let's plot two plots side by side\n",
    "# color by source\n",
    "plt.figure(figsize=(14, 6))\n",
    "plt.subplot(1, 2, 1)\n",
    "sns.scatterplot(x=X_tsne[:, 0], y=X_tsne[:, 1], hue=sol_data['Source'])\n",
    "plt.title('t-SNE plot colored by source')\n",
    "\n",
    "# color by LogS\n",
    "plt.subplot(1, 2, 2)\n",
    "sns.scatterplot(x=X_tsne[:, 0], y=X_tsne[:, 1], hue=sol_data['LogS'], palette='coolwarm')\n",
    "plt.title('t-SNE plot colored by LogS')\n",
    "plt.show()\n"
   ]
  },
  {
   "cell_type": "code",
   "execution_count": null,
   "metadata": {},
   "outputs": [],
   "source": [
    "from sklearn.manifold import TSNE\n",
    "from rdkit.Chem import rdFingerprintGenerator\n",
    "\n",
    "# Let's try to visualize the chemical space of the molecules\n",
    "# using t-SNE with the fingerprints\n",
    "# fingerprint functions from the previous notebook\n",
    "def get_morgan_fingerprints(mols):\n",
    "    mfpgen = rdFingerprintGenerator.GetMorganGenerator(radius=3, fpSize=2048)\n",
    "    feature_vectors = []\n",
    "    for mol in mols:\n",
    "        fp = mfpgen.GetFingerprint(mol)\n",
    "        feature_vectors.append(fp)\n",
    "    return feature_vectors\n",
    "\n",
    "# calculate the fingerprints for each molecule\n",
    "sol_data['Descriptors'] = get_morgan_fingerprints(sol_data['Mol'])\n",
    "\n",
    "# visualize the chemical space\n",
    "X = np.array(sol_data['Descriptors'].tolist())\n",
    "tsne = TSNE(n_components=2, perplexity=10, random_state=42)\n",
    "X_tsne = tsne.fit_transform(X)\n",
    "\n",
    "# let's plot two plots side by side\n",
    "# color by source\n",
    "plt.figure(figsize=(14, 6))\n",
    "plt.subplot(1, 2, 1)\n",
    "sns.scatterplot(x=X_tsne[:, 0], y=X_tsne[:, 1], hue=sol_data['Source'])\n",
    "plt.title('t-SNE plot colored by source')\n",
    "\n",
    "# color by LogS\n",
    "plt.subplot(1, 2, 2)\n",
    "sns.scatterplot(x=X_tsne[:, 0], y=X_tsne[:, 1], hue=sol_data['LogS'], palette='coolwarm')\n",
    "plt.title('t-SNE plot colored by LogS')\n",
    "plt.show()\n"
   ]
  },
  {
   "cell_type": "code",
   "execution_count": null,
   "metadata": {},
   "outputs": [],
   "source": [
    "from rdkit import DataStructs\n",
    "\n",
    "# Tanimoto similarity distribution between the molecules\n",
    "# calculate the similarity matrix\n",
    "similarity_matrix = np.zeros((len(sol_data), len(sol_data)))\n",
    "for i in range(len(sol_data)):\n",
    "    similarity_matrix[i, :] = DataStructs.BulkTanimotoSimilarity(sol_data['Descriptors'].iloc[i],\n",
    "                                                                 sol_data['Descriptors'].tolist())\n",
    "    \n",
    "# plot the distribution of similarities\n",
    "plt.figure(figsize=(10, 6))\n",
    "sns.histplot(similarity_matrix.flatten(), bins=30, kde=True)\n",
    "plt.title('Tanimoto similarity distribution')\n",
    "plt.show()"
   ]
  },
  {
   "cell_type": "code",
   "execution_count": null,
   "metadata": {},
   "outputs": [],
   "source": [
    "# Let's visualize the similarity matrix\n",
    "plt.figure(figsize=(10, 6))\n",
    "sns.heatmap(similarity_matrix, cmap='coolwarm')\n",
    "plt.title('Similarity matrix')\n",
    "plt.show()"
   ]
  },
  {
   "cell_type": "markdown",
   "metadata": {},
   "source": [
    "## Data Curation\n",
    "\n",
    "### Table of Contents\n",
    "\n",
    "1. [Chemical Data Curation](#chemical-data-curation)"
   ]
  },
  {
   "cell_type": "markdown",
   "metadata": {},
   "source": [
    "### Chemical Data Curation\n",
    "\n",
    "<div style=\"text-align: center\"><img src=\"images/TBV_abstract_figure.png\" width=\"70%\"></div>\n",
    "\n",
    "Data curation is a critical step in ensuring the quality of chemical data, which directly affects the accuracy and reliability of models built for tasks such as QSAR (Quantitative Structure-Activity Relationship) analysis. The key goals of data curation include removing erroneous data, ensuring structural consistency, and standardizing descriptors.\n",
    "\n",
    "1. Removing Inorganics and Organometallics: Chemical datasets often contain inorganics, organometallics, or mixtures, which are not useful for organic molecule-based modeling like QSAR. Removing these compounds is a crucial step, typically done by inspecting the SMILES strings and eliminating entries without carbon atoms.\n",
    "\n",
    "2. Dealing with Mixtures: Mixtures in datasets may cause incorrect descriptor calculations. For mixtures, a common approach is to keep only the component with the highest molecular weight or the one most relevant to the study (such as the largest organic molecule), while discarding other components.\n",
    "\n",
    "3. Standardization of Structures: Different representations of the same molecule (e.g., different tautomers or protonation states) can lead to inconsistencies in calculated descriptors. Standardization involves normalizing functional groups, ensuring uniform representations for structures like carboxylic acids or nitro groups. Aromatization, bond standardization, and 2D cleaning are common steps to ensure descriptors are calculated consistently.\n",
    "\n",
    "4. Handling Duplicates: Duplicates can bias models, especially when the same compound is classified differently in various parts of the dataset (e.g., active in one record and inactive in another). Identifying and removing duplicates ensures that no molecule appears more than once, which is essential for accurate model training and validation.\n",
    "\n",
    "5.  Manual Inspection: While many of the above steps can be automated, manual inspection is often necessary to catch errors that algorithms might miss. Visualizing molecular structures and conducting checks on a representative sample of the dataset help ensure high data quality.\n",
    "\n",
    "By following these steps, you ensure that your dataset is clean, consistent, and ready for modeling, which leads to more reliable and interpretable QSAR models.\n",
    "\n",
    "In the following code blocks, I will demonstrate an example curation workflow. However, keep in mind that not all of these steps are always applicable or needed. You need to decide your workflow for your data and project aim. "
   ]
  },
  {
   "cell_type": "code",
   "execution_count": null,
   "metadata": {},
   "outputs": [],
   "source": [
    "# check if molecule can be sanitized\n",
    "def sanitize(mol):\n",
    "    flag = Chem.SanitizeMol(mol, catchErrors=True)\n",
    "    if flag != Chem.SanitizeFlags.SANITIZE_NONE:\n",
    "        return False\n",
    "    return True\n",
    "\n",
    "# remove molecules that cannot be sanitized\n",
    "sol_data_tmp = sol_data[sol_data['Mol'].apply(sanitize)]\n",
    "print(sol_data_tmp.shape)"
   ]
  },
  {
   "cell_type": "code",
   "execution_count": null,
   "metadata": {},
   "outputs": [],
   "source": [
    "# neutralize molecule\n",
    "def neutralize_mol(mol):\n",
    "    pattern = Chem.MolFromSmarts(\"[+1!h0!$([*]~[-1,-2,-3,-4]),-1!$([*]~[+1,+2,+3,+4])]\")\n",
    "    at_matches = mol.GetSubstructMatches(pattern)\n",
    "    at_matches_list = [y[0] for y in at_matches]\n",
    "    if len(at_matches_list) > 0:\n",
    "        for at_idx in at_matches_list:\n",
    "            atom = mol.GetAtomWithIdx(at_idx)\n",
    "            chg = atom.GetFormalCharge()\n",
    "            hcount = atom.GetTotalNumHs()\n",
    "            atom.SetFormalCharge(0)\n",
    "            atom.SetNumExplicitHs(hcount - chg)\n",
    "            atom.UpdatePropertyCache()\n",
    "    return mol\n",
    "\n",
    "# neutralize molecules\n",
    "sol_data_tmp['Mol'] = sol_data_tmp['Mol'].apply(neutralize_mol)"
   ]
  },
  {
   "cell_type": "code",
   "execution_count": null,
   "metadata": {},
   "outputs": [],
   "source": [
    "from rdkit.Chem import rdDistGeom\n",
    "\n",
    "# check if molecule can be embedded in 3D\n",
    "def embed_3d(mol):\n",
    "    tmp_mol = Chem.AddHs(mol)\n",
    "    flag_3d = False\n",
    "    try:\n",
    "        rdDistGeom.EmbedMolecule(tmp_mol)\n",
    "        rdDistGeom.MMFFOptimizeMolecule(tmp_mol)\n",
    "        flag_3d = True\n",
    "    except:\n",
    "        pass\n",
    "\n",
    "    return flag_3d\n",
    "\n",
    "# add 3D coordinates\n",
    "sol_data_tmp = sol_data[sol_data['Mol'].apply(embed_3d)]\n",
    "print(sol_data_tmp.shape)"
   ]
  },
  {
   "cell_type": "code",
   "execution_count": null,
   "metadata": {},
   "outputs": [],
   "source": [
    "# check if molecule is a mixture\n",
    "def curate_mixture(mol, n_frags=2):\n",
    "    num_frags = len(Chem.GetMolFrags(mol))\n",
    "    return num_frags <= n_frags\n",
    "\n",
    "# keep only the largest fragment\n",
    "def keep_largest_fragment(mol):\n",
    "    frags = Chem.GetMolFrags(mol)\n",
    "    if len(frags) == 1:\n",
    "        return mol\n",
    "    frag_sizes = [frag.GetNumAtoms() for frag in frags]\n",
    "    largest_frag = frags[np.argmax(frag_sizes)]\n",
    "    return largest_frag\n",
    "\n",
    "# remove mixtures\n",
    "sol_data_tmp = sol_data[sol_data['Mol'].apply(curate_mixture)]\n",
    "sol_data_tmp['Mol'] = sol_data_tmp['Mol'].apply(keep_largest_fragment)\n",
    "print(sol_data_tmp.shape)"
   ]
  },
  {
   "cell_type": "code",
   "execution_count": null,
   "metadata": {},
   "outputs": [],
   "source": [
    "# check if molecule is valid organic compound\n",
    "def curate_inorganic(mol):\n",
    "    valid_atoms = [\"H\", \"C\", \"N\", \"O\", \"P\", \"S\", \"CL\", \"F\", \"I\", \"BR\", \"B\"]\n",
    "    flag_organic = True\n",
    "    for atom in mol.GetAtoms():\n",
    "        if atom.GetSymbol().toUpperCase() not in valid_atoms:\n",
    "            flag_organic = False\n",
    "            break\n",
    "\n",
    "    return flag_organic\n",
    "\n",
    "# remove inorganic compounds\n",
    "sol_data_tmp = sol_data[sol_data['Mol'].apply(curate_inorganic)]\n",
    "print(sol_data_tmp.shape)"
   ]
  },
  {
   "cell_type": "code",
   "execution_count": null,
   "metadata": {},
   "outputs": [],
   "source": [
    "# check if molecule contains Boron\n",
    "def curate_boron(mol):\n",
    "    flag_boron = False\n",
    "    for atom in mol.GetAtoms():\n",
    "        if atom.GetSymbol().toUpperCase() == \"B\":\n",
    "            flag_boron = True\n",
    "            break\n",
    "\n",
    "    return not flag_boron\n",
    "\n",
    "# remove molecules containing Boron\n",
    "sol_data_tmp = sol_data[sol_data['Mol'].apply(curate_boron)]\n",
    "print(sol_data_tmp.shape)"
   ]
  }
 ],
 "metadata": {
  "kernelspec": {
   "display_name": "biopy",
   "language": "python",
   "name": "python3"
  },
  "language_info": {
   "codemirror_mode": {
    "name": "ipython",
    "version": 3
   },
   "file_extension": ".py",
   "mimetype": "text/x-python",
   "name": "python",
   "nbconvert_exporter": "python",
   "pygments_lexer": "ipython3",
   "version": "3.11.4"
  }
 },
 "nbformat": 4,
 "nbformat_minor": 2
}
