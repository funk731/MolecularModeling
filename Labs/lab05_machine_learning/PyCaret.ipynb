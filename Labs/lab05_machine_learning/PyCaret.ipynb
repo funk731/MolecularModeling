{
 "cells": [
  {
   "cell_type": "markdown",
   "metadata": {},
   "source": [
    "[![Open In Colab](https://colab.research.google.com/assets/colab-badge.svg)](https://colab.research.google.com/github/eneskelestemur/MolecularModeling/blob/main/Labs/lab05_machine_learning/PyCaret.ipynb)"
   ]
  },
  {
   "cell_type": "code",
   "execution_count": null,
   "metadata": {},
   "outputs": [],
   "source": [
    "# packages that need to be installed\n",
    "%pip install pycaret"
   ]
  },
  {
   "cell_type": "markdown",
   "metadata": {},
   "source": [
    "# PyCaret\n",
    "\n",
    "PyCaret is an open-source, low-code machine learning library in Python that automates machine learning workflows.\n",
    "\n",
    "* [Regression](#regression)\n",
    "* [Classification](#classification)"
   ]
  },
  {
   "cell_type": "markdown",
   "metadata": {},
   "source": [
    "## Regression\n",
    "\n",
    "PyCaret’s Regression Module is a supervised machine learning module that is used for estimating the relationships between a dependent variable (often called the ‘outcome variable’, or ‘target’) and one or more independent variables (often called ‘features’, ‘predictors’, or ‘covariates’). \n",
    "\n",
    "The objective of regression is to predict continuous values such as predicting sales amount, predicting quantity, predicting temperature, etc. "
   ]
  },
  {
   "cell_type": "code",
   "execution_count": null,
   "metadata": {},
   "outputs": [],
   "source": [
    "import pandas as pd\n",
    "import numpy as np\n",
    "from rdkit import Chem\n",
    "from rdkit.Chem import rdFingerprintGenerator\n",
    "\n",
    "# Load dataset\n",
    "df = pd.read_csv('data/curated_solubility_dataset.csv')\n",
    "\n",
    "# Convert Mols to molecular fingerprints\n",
    "mfpgen = rdFingerprintGenerator.GetMorganGenerator(radius=3, fpSize=2048)\n",
    "def mols_to_fingerprints(mols, fp_gen=mfpgen):\n",
    "    feature_vectors = []\n",
    "    for mol in mols:\n",
    "        fp = mfpgen.GetFingerprint(mol)\n",
    "        feature_vectors.append(fp)\n",
    "    return np.array(feature_vectors)\n",
    "\n",
    "df['Fingerprint'] = mols_to_fingerprints([Chem.MolFromSmiles(smi) for smi in df['SMILES']]).tolist()\n",
    "\n",
    "# Prepare features (X) and target (y) for regression\n",
    "X = np.array(df['Fingerprint'].tolist())\n",
    "y = df['LogS']\n",
    "\n",
    "# create a dataframe for pycaret\n",
    "data = pd.DataFrame(X)\n",
    "data['target'] = y\n",
    "\n",
    "# to keep the runtime short, we will only use 10% of the data\n",
    "data = data.sample(frac=0.1, random_state=42)\n",
    "\n",
    "# free up memory\n",
    "import gc\n",
    "del df, X, y\n",
    "gc.collect()\n"
   ]
  },
  {
   "cell_type": "code",
   "execution_count": null,
   "metadata": {},
   "outputs": [],
   "source": [
    "import pycaret.regression as reg\n",
    "\n",
    "# setup the regression model\n",
    "reg_setup = reg.setup(data=data, target='target', session_id=123, train_size=0.7, fold=5)"
   ]
  },
  {
   "cell_type": "code",
   "execution_count": null,
   "metadata": {},
   "outputs": [],
   "source": [
    "# exising models\n",
    "reg.models()"
   ]
  },
  {
   "cell_type": "code",
   "execution_count": null,
   "metadata": {},
   "outputs": [],
   "source": [
    "# compare all models\n",
    "best5 = reg.compare_models(n_select=5, exclude=['lightgbm'], turbo=True)"
   ]
  },
  {
   "cell_type": "code",
   "execution_count": null,
   "metadata": {},
   "outputs": [],
   "source": [
    "# evaluate the best model\n",
    "best_model = best5[0]\n",
    "reg.evaluate_model(best_model)"
   ]
  },
  {
   "cell_type": "code",
   "execution_count": null,
   "metadata": {},
   "outputs": [],
   "source": [
    "# plot the model\n",
    "reg.plot_model(best_model, plot='residuals')"
   ]
  },
  {
   "cell_type": "code",
   "execution_count": null,
   "metadata": {},
   "outputs": [],
   "source": [
    "# save the model\n",
    "reg.save_model(best_model, 'reg_model')"
   ]
  },
  {
   "cell_type": "markdown",
   "metadata": {},
   "source": [
    "## Classification\n",
    "\n",
    "PyCaret’s Classification Module is a supervised machine learning module that is used for classifying elements into groups. \n",
    "\n",
    "The goal is to predict the categorical class labels which are discrete and unordered. Some common use cases include predicting customer default (Yes or No), predicting customer churn (customer will leave or stay), the disease found (positive or negative). \n",
    "\n",
    "This module can be used for binary or multiclass problems."
   ]
  },
  {
   "cell_type": "code",
   "execution_count": 3,
   "metadata": {},
   "outputs": [],
   "source": [
    "# convert the target to a binary variable\n",
    "data['target'] = data['target'].apply(lambda x: 1 if x < -3 else 0)"
   ]
  },
  {
   "cell_type": "code",
   "execution_count": null,
   "metadata": {},
   "outputs": [],
   "source": [
    "# setup the classification model\n",
    "import pycaret.classification as clf\n",
    "\n",
    "clf_setup = clf.setup(data=data, target='target', session_id=123, train_size=0.7, fold=5)"
   ]
  },
  {
   "cell_type": "code",
   "execution_count": null,
   "metadata": {},
   "outputs": [],
   "source": [
    "# existing models\n",
    "clf.models()"
   ]
  },
  {
   "cell_type": "code",
   "execution_count": null,
   "metadata": {},
   "outputs": [],
   "source": [
    "# compare all models\n",
    "best5 = clf.compare_models(n_select=5, exclude=['lightgbm'], turbo=True)"
   ]
  },
  {
   "cell_type": "code",
   "execution_count": null,
   "metadata": {},
   "outputs": [],
   "source": [
    "# evaluate the best model\n",
    "best_model = best5[0]\n",
    "clf.evaluate_model(best_model)"
   ]
  },
  {
   "cell_type": "code",
   "execution_count": null,
   "metadata": {},
   "outputs": [],
   "source": [
    "# plot the model\n",
    "clf.plot_model(best_model, plot='confusion_matrix')"
   ]
  },
  {
   "cell_type": "code",
   "execution_count": null,
   "metadata": {},
   "outputs": [],
   "source": [
    "# save the model\n",
    "clf.save_model(best_model, 'clf_model')"
   ]
  }
 ],
 "metadata": {
  "kernelspec": {
   "display_name": "caret",
   "language": "python",
   "name": "python3"
  },
  "language_info": {
   "codemirror_mode": {
    "name": "ipython",
    "version": 3
   },
   "file_extension": ".py",
   "mimetype": "text/x-python",
   "name": "python",
   "nbconvert_exporter": "python",
   "pygments_lexer": "ipython3",
   "version": "3.8.17"
  }
 },
 "nbformat": 4,
 "nbformat_minor": 2
}
