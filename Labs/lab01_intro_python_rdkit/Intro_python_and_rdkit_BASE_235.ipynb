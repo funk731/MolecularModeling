{
 "cells": [
  {
   "cell_type": "markdown",
   "id": "38098176",
   "metadata": {},
   "source": [
    "# Introduction to Python and RDkit\n",
    "\n",
    "**Topics:**\n",
    "\n",
    "* [Python](#python)\n",
    "* [RDKit](#rdkit)"
   ]
  },
  {
   "cell_type": "markdown",
   "id": "82168100",
   "metadata": {},
   "source": [
    "## Python\n"
   ]
  },
  {
   "cell_type": "markdown",
   "id": "f0531dd5",
   "metadata": {},
   "source": [
    "### Table of Contents\n",
    "1. [Introduction](#1-introduction)\n",
    "2. [Setting Up Python](#2-setting-up-python)\n",
    "3. [Basic Syntax](#3-basic-syntax)\n",
    "4. [Variables and Data Types](#4-variables-and-data-types)\n",
    "5. [Operators](#5-operators)\n",
    "6. [Conditional Statements](#6-conditional-statements)\n",
    "7. [Loops](#7-loops)\n",
    "8. [Functions](#8-functions)\n",
    "9. [Lists](#9-lists)\n",
    "10. [Tuples](#10-tuples)\n",
    "11. [Dictionaries](#11-dictionaries)\n",
    "12. [String Manipulations](#9-string-manipulations)\n",
    "13. [Pandas](#10-pandas)\n",
    "14. [NumPy](#11-numpy)\n",
    "15. [Plotting](#12-plotting-with-matplotlib)\n",
    "16. [Practice Exercises](#13-practice-exercises)\n",
    "\n",
    "### 1. Introduction\n",
    "Welcome to the Elementary Introduction to Python! In this notebook, you will learn the basics of Python programming. Python is a powerful, easy-to-learn programming language that is widely used in various fields, including web development, data analysis, artificial intelligence, and more. By the end of this notebook, you will be familiar with Python syntax and able to write simple programs.\n",
    "\n",
    "### 2. Setting Up Python\n",
    "To write and run Python code, you need to have Python installed on your computer. My recommendation is to download [Visual Studio Code (VSCode)](https://code.visualstudio.com/), then you can download Python and Jupyter Notebook using extensions tab inside VSCode. You can also download and install Python from the official website: [python.org](https://www.python.org/). Alternatively, you can use an online Python interpreter like [Google Colab](https://colab.research.google.com/).\n",
    "\n",
    "### 3. Basic Syntax\n",
    "Python code is written in plain text and saved with a `.py` extension. Another way to write Python code is using Jupyter Notebooks saved with a `ipynb` extension, such as this file itself. Python uses indentation to define blocks of code. Let's look at a simple example:\n"
   ]
  },
  {
   "cell_type": "code",
   "execution_count": null,
   "id": "c099c393",
   "metadata": {},
   "outputs": [],
   "source": [
    "# This is a comment\n",
    "print(\"Hello, World!\")\n"
   ]
  },
  {
   "cell_type": "markdown",
   "id": "8eff7a10",
   "metadata": {},
   "source": [
    "### 4. Variables and Data Types\n",
    "Variables are used to store data. Python has several data types, including integers, floats, strings, and booleans. Let's see some examples:\n"
   ]
  },
  {
   "cell_type": "code",
   "execution_count": null,
   "id": "3c600f74",
   "metadata": {},
   "outputs": [],
   "source": [
    "# Integer\n",
    "x = 5\n",
    "print(f'{x} is of type {type(x).__name__}')"
   ]
  },
  {
   "cell_type": "code",
   "execution_count": null,
   "id": "b5395e0a",
   "metadata": {},
   "outputs": [],
   "source": [
    "# Float\n",
    "y = 3.14\n",
    "print(f'{y} is of type {type(y).__name__}')"
   ]
  },
  {
   "cell_type": "code",
   "execution_count": null,
   "id": "22d0ea4a",
   "metadata": {},
   "outputs": [],
   "source": [
    "# String\n",
    "name = \"Alice\"\n",
    "print(f'{name} is of type {type(name).__name__}')"
   ]
  },
  {
   "cell_type": "code",
   "execution_count": null,
   "id": "0a7e770e",
   "metadata": {},
   "outputs": [],
   "source": [
    "# Boolean\n",
    "is_student = True\n",
    "print(f'{is_student} is of type {type(is_student).__name__}')"
   ]
  },
  {
   "cell_type": "markdown",
   "id": "7c8b38f7",
   "metadata": {},
   "source": [
    "### 5. Operators\n",
    "Operators are used to perform operations on variables and values. Python supports arithmetic, comparison, logical, and assignment operators. Here are some examples:\n"
   ]
  },
  {
   "cell_type": "code",
   "execution_count": null,
   "id": "a4a463c4",
   "metadata": {},
   "outputs": [],
   "source": [
    "# Assign variables\n",
    "a = 10\n",
    "b = 3\n",
    "\n",
    "# Arithmetic operators\n",
    "print('Arithmetic operators')\n",
    "print(a + b)  # Addition\n",
    "print(a - b)  # Subtraction\n",
    "print(a * b)  # Multiplication\n",
    "print(a / b)  # Division\n",
    "print(a % b)  # Modulus\n",
    "print(a ** b) # Exponentiation\n",
    "print(a // b) # Floor division"
   ]
  },
  {
   "cell_type": "code",
   "execution_count": null,
   "id": "29497743",
   "metadata": {},
   "outputs": [],
   "source": [
    "# Comparison operators\n",
    "print('Comparison operators')\n",
    "print(a == b)  # Equal to\n",
    "print(a != b)  # Not equal to\n",
    "print(a > b)   # Greater than\n",
    "print(a < b)   # Less than\n",
    "print(a >= b)  # Greater than or equal to\n",
    "print(a <= b)  # Less than or equal to"
   ]
  },
  {
   "cell_type": "code",
   "execution_count": null,
   "id": "e10d2310",
   "metadata": {},
   "outputs": [],
   "source": [
    "# Logical operators\n",
    "print('Logical operators')\n",
    "print(a > 5 and b < 5)  # Logical AND\n",
    "print(a > 5 or b > 5)   # Logical OR\n",
    "print(not(a > 5))       # Logical NOT"
   ]
  },
  {
   "cell_type": "markdown",
   "id": "382649ba",
   "metadata": {},
   "source": [
    "### 6. Conditional Statements\n",
    "Conditional statements are used to perform different actions based on different conditions. The `if`, `elif`, and `else` statements are used for this purpose:\n"
   ]
  },
  {
   "cell_type": "code",
   "execution_count": null,
   "id": "f63d6188",
   "metadata": {},
   "outputs": [],
   "source": [
    "age = 18\n",
    "if age >= 18:\n",
    "    print(\"You are an adult.\")\n",
    "elif age >= 13:\n",
    "    print(\"You are a teen.\")\n",
    "else:\n",
    "    print(\"You are a child.\")\n"
   ]
  },
  {
   "cell_type": "markdown",
   "id": "c5c328ca",
   "metadata": {},
   "source": [
    "### 7. Loops\n",
    "Loops are used to execute a block of code repeatedly. Python has two main types of loops: `for` and `while` loops. Here are examples of each:\n"
   ]
  },
  {
   "cell_type": "code",
   "execution_count": null,
   "id": "ae098075",
   "metadata": {},
   "outputs": [],
   "source": [
    "# For loop\n",
    "total_sum = 0\n",
    "for i in range(5):\n",
    "    print(i)\n",
    "    total_sum = total_sum + i\n",
    "print(total_sum)"
   ]
  },
  {
   "cell_type": "code",
   "execution_count": null,
   "id": "7d4a7675",
   "metadata": {},
   "outputs": [],
   "source": [
    "# While loop\n",
    "count = 0\n",
    "while count < 5:\n",
    "    print(count)\n",
    "    count += 1"
   ]
  },
  {
   "cell_type": "markdown",
   "id": "fdeb5d79",
   "metadata": {},
   "source": [
    "### 8. Functions\n",
    "Functions are blocks of code that perform a specific task. They help in organizing code and making it reusable. Here's how you define and call a function:\n"
   ]
  },
  {
   "cell_type": "code",
   "execution_count": null,
   "id": "8522a874",
   "metadata": {},
   "outputs": [],
   "source": [
    "def power(number, power=2):\n",
    "    res = number ** power\n",
    "    return res\n",
    "\n",
    "print(power(7))"
   ]
  },
  {
   "cell_type": "markdown",
   "id": "9be18f74",
   "metadata": {},
   "source": [
    "### 9. Lists\n",
    "\n",
    "A list is an ordered, mutable (changeable) collection of items. Lists can contain items of different data types, including other lists.\n"
   ]
  },
  {
   "cell_type": "code",
   "execution_count": null,
   "id": "4dd4afb2",
   "metadata": {},
   "outputs": [],
   "source": [
    "# Creating a list of strings\n",
    "fruits = ['apple', 'banana', 'cherry']"
   ]
  },
  {
   "cell_type": "code",
   "execution_count": null,
   "id": "f9c79508",
   "metadata": {},
   "outputs": [],
   "source": [
    "# Accessing elements\n",
    "print(fruits[0])  # Output: apple"
   ]
  },
  {
   "cell_type": "code",
   "execution_count": null,
   "id": "da6ac76a",
   "metadata": {},
   "outputs": [],
   "source": [
    "# Modifying elements\n",
    "fruits[1] = 'blueberry'\n",
    "print(fruits)  # Output: ['apple', 'blueberry', 'cherry']"
   ]
  },
  {
   "cell_type": "code",
   "execution_count": null,
   "id": "091cddc5",
   "metadata": {},
   "outputs": [],
   "source": [
    "# Adding elements\n",
    "fruits.append('orange')\n",
    "print(fruits)  # Output: ['apple', 'blueberry', 'cherry', 'orange']"
   ]
  },
  {
   "cell_type": "code",
   "execution_count": null,
   "id": "3f74fdac",
   "metadata": {},
   "outputs": [],
   "source": [
    "# Removing elements\n",
    "fruits.remove('apple')\n",
    "print(fruits)  # Output: ['blueberry', 'cherry', 'orange']"
   ]
  },
  {
   "cell_type": "code",
   "execution_count": null,
   "id": "5caee57a",
   "metadata": {},
   "outputs": [],
   "source": [
    "# Slicing a list\n",
    "print(fruits[1:3])  # Output: ['cherry', 'orange']"
   ]
  },
  {
   "cell_type": "markdown",
   "id": "0c32d7aa",
   "metadata": {},
   "source": [
    "### 10. Tuples\n",
    "\n",
    "A tuple is an ordered, immutable (unchangeable) collection of items. Once a tuple is created, you cannot modify its elements."
   ]
  },
  {
   "cell_type": "code",
   "execution_count": null,
   "id": "dbe06294",
   "metadata": {},
   "outputs": [],
   "source": [
    "# Creating a tuple\n",
    "coordinates = (10.0, 20.0)"
   ]
  },
  {
   "cell_type": "code",
   "execution_count": null,
   "id": "098653a4",
   "metadata": {},
   "outputs": [],
   "source": [
    "# Accessing elements\n",
    "print(coordinates[0])  # Output: 10.0"
   ]
  },
  {
   "cell_type": "code",
   "execution_count": null,
   "id": "7b15965d",
   "metadata": {},
   "outputs": [],
   "source": [
    "# Tuples are immutable, so they can't be changed once defined\n",
    "coordinates[0] = 15.0  # this line will raise a TypeError"
   ]
  },
  {
   "cell_type": "code",
   "execution_count": null,
   "id": "c0a99f52",
   "metadata": {},
   "outputs": [],
   "source": [
    "# You can also create a tuple without parentheses (tuple packing)\n",
    "point = 10.0, 20.0, 30.0\n",
    "print(point)  # Output: (10.0, 20.0, 30.0)\n",
    "\n",
    "# Tuple unpacking\n",
    "x, y, z = point\n",
    "print(x, y, z)  # Output: 10.0 20.0 30.0"
   ]
  },
  {
   "cell_type": "markdown",
   "id": "662c56a8",
   "metadata": {},
   "source": [
    "### 11. Dictionaries\n",
    "\n",
    "A dictionary is an unordered collection of key-value pairs. Dictionaries are mutable, which means you can change, add, or remove items."
   ]
  },
  {
   "cell_type": "code",
   "execution_count": null,
   "id": "e63369da",
   "metadata": {},
   "outputs": [],
   "source": [
    "# Creating a dictionary\n",
    "student = {'name': 'Alice', 'age': 25, 'major': 'Physics'}"
   ]
  },
  {
   "cell_type": "code",
   "execution_count": null,
   "id": "c12592b6",
   "metadata": {},
   "outputs": [],
   "source": [
    "# Accessing values\n",
    "print(student['name'])  # Output: Alice"
   ]
  },
  {
   "cell_type": "code",
   "execution_count": null,
   "id": "cf192084",
   "metadata": {},
   "outputs": [],
   "source": [
    "# Modifying values\n",
    "student['age'] = 26\n",
    "print(student)  # Output: {'name': 'Alice', 'age': 26, 'major': 'Physics'}"
   ]
  },
  {
   "cell_type": "code",
   "execution_count": null,
   "id": "06b36a52",
   "metadata": {},
   "outputs": [],
   "source": [
    "# Adding a new key-value pair\n",
    "student['GPA'] = 3.8\n",
    "print(student)  # Output: {'name': 'Alice', 'age': 26, 'major': 'Physics', 'GPA': 3.8}"
   ]
  },
  {
   "cell_type": "code",
   "execution_count": null,
   "id": "c5549c29",
   "metadata": {},
   "outputs": [],
   "source": [
    "# Removing a key-value pair\n",
    "del student['major']\n",
    "print(student)  # Output: {'name': 'Alice', 'age': 26, 'GPA': 3.8}"
   ]
  },
  {
   "cell_type": "code",
   "execution_count": null,
   "id": "7351531e",
   "metadata": {},
   "outputs": [],
   "source": [
    "# Iterating through a dictionary\n",
    "for key, value in student.items():\n",
    "    print(key, value)\n",
    "# Output:\n",
    "# name Alice\n",
    "# age 26\n",
    "# GPA 3.8"
   ]
  },
  {
   "cell_type": "markdown",
   "id": "4142100b",
   "metadata": {},
   "source": [
    "### 12. String Manipulations\n",
    "Strings are a sequence of characters and are one of the most commonly used data types in Python. Python provides a variety of methods to manipulate strings. Here are some important string methods and examples of how to use them:\n"
   ]
  },
  {
   "cell_type": "code",
   "execution_count": null,
   "id": "2d21740f",
   "metadata": {},
   "outputs": [],
   "source": [
    "# String Initialization\n",
    "text = \"Hello, World!\"\n",
    "\n",
    "# Length of the String\n",
    "print(len(text))  # Output: 13"
   ]
  },
  {
   "cell_type": "code",
   "execution_count": null,
   "id": "0c50ab64",
   "metadata": {},
   "outputs": [],
   "source": [
    "# String Indexing and Slicing\n",
    "print(text[0])    # Output: H\n",
    "print(text[-1])   # Output: !\n",
    "print(text[0:5])  # Output: Hello"
   ]
  },
  {
   "cell_type": "code",
   "execution_count": null,
   "id": "f18e7251",
   "metadata": {},
   "outputs": [],
   "source": [
    "# Changing Case\n",
    "print(text.lower())  # Output: hello, world!\n",
    "print(text.upper())  # Output: HELLO, WORLD!\n",
    "print(text.capitalize())  # Output: Hello, world!"
   ]
  },
  {
   "cell_type": "code",
   "execution_count": null,
   "id": "36395382",
   "metadata": {},
   "outputs": [],
   "source": [
    "# Stripping Whitespace\n",
    "text_with_whitespace = \"  Hello, World!  \"\n",
    "print(text_with_whitespace.strip())  # Output: Hello, World!\n",
    "print(text_with_whitespace.lstrip()) # Output: Hello, World!  \n",
    "print(text_with_whitespace.rstrip()) # Output:   Hello, World!"
   ]
  },
  {
   "cell_type": "code",
   "execution_count": null,
   "id": "517a523a",
   "metadata": {},
   "outputs": [],
   "source": [
    "# Finding Substrings\n",
    "print(text.find(\"World\"))  # Output: 7\n",
    "print(text.find(\"Python\"))  # Output: -1 (not found)"
   ]
  },
  {
   "cell_type": "code",
   "execution_count": null,
   "id": "2c823f30",
   "metadata": {},
   "outputs": [],
   "source": [
    "# Replacing Substrings\n",
    "print(text.replace(\"World\", \"Python\"))  # Output: Hello, Python!"
   ]
  },
  {
   "cell_type": "code",
   "execution_count": null,
   "id": "e7c44cd5",
   "metadata": {},
   "outputs": [],
   "source": [
    "# Splitting and Joining Strings\n",
    "split_text = text.split(\",\")  # Output: ['Hello', ' World!']\n",
    "print(split_text)\n",
    "joined_text = \" \".join(split_text)  # Output: Hello  World!\n",
    "print(joined_text)"
   ]
  },
  {
   "cell_type": "code",
   "execution_count": null,
   "id": "42877610",
   "metadata": {},
   "outputs": [],
   "source": [
    "# Checking Start and End\n",
    "print(text.startswith(\"Hello\"))  # Output: True\n",
    "print(text.endswith(\"!\"))        # Output: True"
   ]
  },
  {
   "cell_type": "code",
   "execution_count": null,
   "id": "036fe2a8",
   "metadata": {},
   "outputs": [],
   "source": [
    "# Count Substrings\n",
    "print(text.count(\"l\"))  # Output: 3"
   ]
  },
  {
   "cell_type": "code",
   "execution_count": null,
   "id": "880737dd",
   "metadata": {},
   "outputs": [],
   "source": [
    "# String Formatting\n",
    "name = \"Alice\"\n",
    "age = 30\n",
    "print(f\"My name is {name} and I am {age} years old.\")  # Output: My name is Alice and I am 30 years old.\n",
    "print(\"My name is {} and I am {} years old.\".format(name, age))  # Output: My name is Alice and I am 30 years old."
   ]
  },
  {
   "cell_type": "markdown",
   "id": "8317eae7",
   "metadata": {},
   "source": [
    "### 13. Pandas\n",
    "\n",
    "Pandas is a powerful data manipulation and analysis library for Python. It provides data structures like Series and DataFrame, which are very useful for handling and analyzing structured data.\n",
    "\n",
    "**Creating a DataFrame**\n",
    "\n",
    "A DataFrame is a two-dimensional, size-mutable, and potentially heterogeneous tabular data structure with labeled axes (rows and columns)."
   ]
  },
  {
   "cell_type": "code",
   "execution_count": null,
   "id": "7ca9ea39",
   "metadata": {},
   "outputs": [],
   "source": [
    "import pandas as pd\n",
    "\n",
    "# Creating a DataFrame from a dictionary\n",
    "data = {\n",
    "    'Name': ['Alice', 'Bob', 'Charlie'],\n",
    "    'Age': [25, 30, 35],\n",
    "    'City': ['New York', 'Los Angeles', 'Chicago']\n",
    "}\n",
    "\n",
    "df = pd.DataFrame(data)\n",
    "print(df)"
   ]
  },
  {
   "cell_type": "code",
   "execution_count": null,
   "id": "a6397ff8",
   "metadata": {},
   "outputs": [],
   "source": [
    "# save the data to csv file\n",
    "df.to_csv('data/data.csv', index=False)"
   ]
  },
  {
   "cell_type": "markdown",
   "id": "050e206d",
   "metadata": {},
   "source": [
    "**Reading Data from a CSV File**\n",
    "\n",
    "Pandas can read data from various file formats, including CSV, Excel, SQL databases, and more. Here, we'll demonstrate how to read data from a CSV file."
   ]
  },
  {
   "cell_type": "code",
   "execution_count": null,
   "id": "c0a576cd",
   "metadata": {},
   "outputs": [],
   "source": [
    "# Reading data from a CSV file\n",
    "df = pd.read_csv('data/data.csv')\n",
    "print(df)"
   ]
  },
  {
   "cell_type": "markdown",
   "id": "94e42634",
   "metadata": {},
   "source": [
    "**Basic Data Manipulations**\n",
    "\n",
    "Pandas provides numerous functions to manipulate data. Here are some basic operations:"
   ]
  },
  {
   "cell_type": "code",
   "execution_count": null,
   "id": "b0927953",
   "metadata": {},
   "outputs": [],
   "source": [
    "# Display the first few rows of the DataFrame\n",
    "print(df.head())"
   ]
  },
  {
   "cell_type": "code",
   "execution_count": null,
   "id": "4dc15c79",
   "metadata": {},
   "outputs": [],
   "source": [
    "# Display summary statistics of the DataFrame\n",
    "print(df.describe())"
   ]
  },
  {
   "cell_type": "code",
   "execution_count": null,
   "id": "1aa3e821",
   "metadata": {},
   "outputs": [],
   "source": [
    "# Filter rows based on a condition\n",
    "adults = df[df['Age'] >= 18]\n",
    "print(adults)"
   ]
  },
  {
   "cell_type": "code",
   "execution_count": null,
   "id": "f68cc24e",
   "metadata": {},
   "outputs": [],
   "source": [
    "# Add a new column to the DataFrame\n",
    "df['Age in 10 Years'] = df['Age'] + 10\n",
    "print(df)"
   ]
  },
  {
   "cell_type": "code",
   "execution_count": null,
   "id": "dbcad00f",
   "metadata": {},
   "outputs": [],
   "source": [
    "# Group data by a column and calculate the mean\n",
    "mean_age_by_city = df.groupby('City')['Age'].mean()\n",
    "print(mean_age_by_city)"
   ]
  },
  {
   "cell_type": "markdown",
   "id": "44f053e6",
   "metadata": {},
   "source": [
    "### 14. NumPy\n",
    "NumPy is a fundamental package for scientific computing with Python. It provides support for arrays, mathematical functions, and much more.\n",
    "\n",
    "**Creating Arrays**\n",
    "\n",
    "NumPy arrays are similar to Python lists but provide many more functionalities and are more efficient for numerical operations."
   ]
  },
  {
   "cell_type": "code",
   "execution_count": null,
   "id": "ab01175d",
   "metadata": {},
   "outputs": [],
   "source": [
    "import numpy as np\n",
    "\n",
    "# Creating a 1D array\n",
    "array_1d = np.array([1, 2, 3, 4, 5])\n",
    "print(array_1d)"
   ]
  },
  {
   "cell_type": "code",
   "execution_count": null,
   "id": "83a96066",
   "metadata": {},
   "outputs": [],
   "source": [
    "# Creating a 2D array\n",
    "array_2d = np.array([[1, 2, 3], [4, 5, 6]])\n",
    "print(array_2d)"
   ]
  },
  {
   "cell_type": "code",
   "execution_count": null,
   "id": "77269cae",
   "metadata": {},
   "outputs": [],
   "source": [
    "# Creating arrays with special values\n",
    "zeros_array = np.zeros((3, 3))\n",
    "print(zeros_array)\n",
    "\n",
    "ones_array = np.ones((2, 4))\n",
    "print(ones_array)\n",
    "\n",
    "fulls_array = np.full((2, 3), 7)"
   ]
  },
  {
   "cell_type": "code",
   "execution_count": null,
   "id": "098ff490",
   "metadata": {},
   "outputs": [],
   "source": [
    "# Creating an array with a range of values\n",
    "range_array = np.arange(10)\n",
    "print(range_array)\n"
   ]
  },
  {
   "cell_type": "markdown",
   "id": "36c662d3",
   "metadata": {},
   "source": [
    "**Basic Array Operations**\n",
    "\n",
    "NumPy provides many functions to perform operations on arrays."
   ]
  },
  {
   "cell_type": "code",
   "execution_count": null,
   "id": "3644031b",
   "metadata": {},
   "outputs": [],
   "source": [
    "# Element-wise addition\n",
    "array_sum = array_1d + 2\n",
    "print(array_sum)"
   ]
  },
  {
   "cell_type": "code",
   "execution_count": null,
   "id": "2b32ea95",
   "metadata": {},
   "outputs": [],
   "source": [
    "# Element-wise multiplication\n",
    "array_product = array_1d * 3\n",
    "print(array_product)"
   ]
  },
  {
   "cell_type": "code",
   "execution_count": null,
   "id": "882085d5",
   "metadata": {},
   "outputs": [],
   "source": [
    "# Element-wise square root\n",
    "array_sqrt = np.sqrt(array_1d)\n",
    "print(array_sqrt)"
   ]
  },
  {
   "cell_type": "markdown",
   "id": "e99eec8d",
   "metadata": {},
   "source": [
    "**Basic Array Manipulations**\n",
    "\n",
    "NumPy also provides functions to manipulate arrays, such as reshaping, slicing, and indexing."
   ]
  },
  {
   "cell_type": "code",
   "execution_count": null,
   "id": "f3e8ace3",
   "metadata": {},
   "outputs": [],
   "source": [
    "# Reshaping an array\n",
    "reshaped_array = array_2d.reshape((3, 2))\n",
    "print(reshaped_array)"
   ]
  },
  {
   "cell_type": "code",
   "execution_count": null,
   "id": "84ae980a",
   "metadata": {},
   "outputs": [],
   "source": [
    "# Slicing an array\n",
    "sliced_array = array_1d[1:4]\n",
    "print(sliced_array)"
   ]
  },
  {
   "cell_type": "code",
   "execution_count": null,
   "id": "e1e84134",
   "metadata": {},
   "outputs": [],
   "source": [
    "# Indexing an array\n",
    "indexed_value = array_2d[1, 2]\n",
    "print(indexed_value)"
   ]
  },
  {
   "cell_type": "markdown",
   "id": "ec9750d0",
   "metadata": {},
   "source": [
    "### 15. Plotting with Matplotlib\n",
    "\n",
    "Matplotlib is a comprehensive library for creating static, animated, and interactive visualizations in Python. It is particularly good for creating plots and charts.\n",
    "\n",
    "**Line Plot**\n",
    "\n",
    "A line plot is a simple way to visualize a sequence of data points connected by straight line segments."
   ]
  },
  {
   "cell_type": "code",
   "execution_count": null,
   "id": "36be694a",
   "metadata": {},
   "outputs": [],
   "source": [
    "import matplotlib.pyplot as plt\n",
    "\n",
    "# Data for plotting\n",
    "x = [1, 2, 3, 4, 5]\n",
    "y = [2, 3, 5, 7, 11]\n",
    "\n",
    "# Creating a line plot\n",
    "plt.figure(figsize=(8, 5))\n",
    "plt.plot(x, y, marker='o')\n",
    "plt.title('Line Plot')\n",
    "plt.xlabel('X-axis')\n",
    "plt.ylabel('Y-axis')\n",
    "plt.grid(True)\n",
    "plt.show()"
   ]
  },
  {
   "cell_type": "markdown",
   "id": "86457af4",
   "metadata": {},
   "source": [
    "**Bar Chart**\n",
    "\n",
    "A bar chart is used to represent data with rectangular bars."
   ]
  },
  {
   "cell_type": "code",
   "execution_count": null,
   "id": "9ab773ae",
   "metadata": {},
   "outputs": [],
   "source": [
    "# Data for plotting\n",
    "categories = ['A', 'B', 'C', 'D']\n",
    "values = [10, 20, 15, 25]\n",
    "\n",
    "# Creating a bar chart\n",
    "plt.figure(figsize=(8, 5))\n",
    "plt.bar(categories, values, color='skyblue')\n",
    "plt.title('Bar Chart')\n",
    "plt.xlabel('Categories')\n",
    "plt.ylabel('Values')\n",
    "plt.show()\n"
   ]
  },
  {
   "cell_type": "markdown",
   "id": "c1a4db9e",
   "metadata": {},
   "source": [
    "### 16. Practice Exercises\n",
    "Now it's time to practice what you've learned. Below are some exercises for you to try:\n",
    "\n",
    "1. Write a Python program to calculate the area of a rectangle.\n",
    "2. Write a Python program that takes a number as input and prints whether it is positive, negative, or zero.\n",
    "3. Write a Python program to find the sum of all numbers from 1 to 100.\n",
    "4. Write a Python program to calculate the factorial of a number.\n",
    "5. Write a Python program to check if a number is prime.\n",
    "6. Write a Python function that takes two numbers as input and returns their greatest common divisor (GCD).\n",
    "\n",
    "Here's an example of how to approach these exercises:\n"
   ]
  },
  {
   "cell_type": "code",
   "execution_count": null,
   "id": "a963915c",
   "metadata": {},
   "outputs": [],
   "source": [
    "# Exercise 1: Calculate the area of a rectangle for the given length and width\n",
    "length = 5\n",
    "width = 3\n",
    "area = ... # TODO: Calculate the area of the rectangle\n",
    "print(f\"The area of the rectangle is {area}\")\n",
    "\n",
    "# check answer\n",
    "assert area == 15, f\"Wrong answer, {area} != 15\""
   ]
  },
  {
   "cell_type": "code",
   "execution_count": null,
   "id": "5fe8d93c",
   "metadata": {},
   "outputs": [],
   "source": [
    "import numpy as np\n",
    "# Exercise 2: Find the maximum of three numbers\n",
    "numbers = np.random.randint(0, 10, 3)\n",
    "if ...:\n",
    "    max_number = ... # TODO: Find the maximum number\n",
    "...\n",
    "print(f\"The maximum number is {max_number}\")\n",
    "\n",
    "# check answer\n",
    "assert max_number == np.max(numbers), f\"Wrong answer, {max_number} != {np.max(numbers)}\""
   ]
  },
  {
   "cell_type": "code",
   "execution_count": null,
   "id": "3cdcdc12",
   "metadata": {},
   "outputs": [],
   "source": [
    "# Exercise 3: Sum of numbers from 1 to 100\n",
    "total_sum = 0\n",
    "for i in ...: # TODO: Loop through numbers from 1 to 100\n",
    "    total_sum = ... # TODO: Calculate the sum of numbers\n",
    "print(f\"The sum of numbers from 1 to 100 is {total_sum}\")\n",
    "\n",
    "# check answer\n",
    "assert total_sum == sum(range(101)), f\"Wrong answer, {total_sum} != {sum(range(101))}\""
   ]
  },
  {
   "cell_type": "code",
   "execution_count": null,
   "id": "116bbc3f",
   "metadata": {},
   "outputs": [],
   "source": [
    "# Exercise 4: Write a function to calculate the factorial of a number\n",
    "def factorial(n):\n",
    "    if ...:\n",
    "        return ...\n",
    "    output = 1\n",
    "    for i in ...: # TODO: Loop through numbers from 1 to n\n",
    "        output = ... # TODO: Calculate the factorial of n\n",
    "    return output"
   ]
  },
  {
   "cell_type": "code",
   "execution_count": null,
   "id": "c208e535",
   "metadata": {},
   "outputs": [],
   "source": [
    "# Exercise 5: Write a function that checks if a number is prime\n",
    "def is_prime(num):\n",
    "    '''\n",
    "    This function checks if a number is prime or not \n",
    "    and returns True if the number is prime, otherwise False.\n",
    "    '''\n",
    "    ... # some code here\n",
    "\n",
    "# check answer\n",
    "assert is_prime(7) == True, \"Wrong answer\"\n",
    "assert is_prime(10) == False, \"Wrong answer\"\n",
    "assert is_prime(1) == False, \"Wrong answer\"\n",
    "assert is_prime(2) == True, \"Wrong answer\""
   ]
  },
  {
   "cell_type": "code",
   "execution_count": null,
   "id": "2efe4648",
   "metadata": {},
   "outputs": [],
   "source": [
    "# Exercise 6: Find the GCD of two numbers\n",
    "def gcd(a, b):\n",
    "    '''\n",
    "    This function calculates the Greatest Common Divisor (GCD) of two numbers.\n",
    "    '''\n",
    "    ... # some code here\n",
    "\n",
    "\n",
    "# check answer\n",
    "assert gcd(12, 15) == 3, \"Wrong answer\"\n",
    "assert gcd(10, 20) == 10, \"Wrong answer\"\n",
    "assert gcd(7, 9) == 1, \"Wrong answer\"\n",
    "assert gcd(12, 12) == 12, \"Wrong answer\""
   ]
  },
  {
   "cell_type": "markdown",
   "id": "b619c70d",
   "metadata": {},
   "source": [
    "## RDkit"
   ]
  },
  {
   "cell_type": "markdown",
   "id": "6c61a4e4",
   "metadata": {},
   "source": [
    "### Table of Contents\n",
    "1. [Introduction](#1-intro)\n",
    "2. [Installation](#2-installation)\n",
    "3. [Basic Usage](#3-basic-usage)\n",
    "4. [Molecule Visualization](#4-molecule-visualization)\n",
    "5. [Molecular Descriptors](#5-molecular-descriptors)\n",
    "6. [File Reading and Writing](#6-file-reading-and-writing)\n",
    "7. [Practice Exercises](#7-practice-exercises)\n",
    "\n",
    "### 1. Intro\n",
    "RDKit is a collection of cheminformatics and machine learning tools. It is used for processing and analyzing chemical information. In this notebook, we will cover the basics of using RDKit, including molecule creation, visualization, calculating molecular descriptors, and substructure searching.\n",
    "\n",
    "### 2. Installation\n",
    "To use RDKit, you need to install it first. You can install RDKit using conda `conda install -c conda-forge rdkit` or pip `pip install rdkit`. "
   ]
  },
  {
   "cell_type": "markdown",
   "id": "ed906426",
   "metadata": {},
   "source": [
    "### 3. Basic Usage\n",
    "Let's start with some basic usage of RDKit. We'll learn how to create a molecule object from a SMILES string and get basic information about the molecule. Your best friend will be the [RDkit documentation](https://www.rdkit.org/docs/GettingStartedInPython.html) where you can find RDkit functions and their explanations."
   ]
  },
  {
   "cell_type": "code",
   "execution_count": null,
   "id": "f7684f89",
   "metadata": {},
   "outputs": [],
   "source": [
    "from rdkit import Chem\n",
    "\n",
    "# Create a molecule from a SMILES string\n",
    "smiles = 'CCO'\n",
    "molecule = Chem.MolFromSmiles(smiles)\n",
    "\n",
    "# Print the molecule object\n",
    "print(molecule)\n",
    "\n",
    "# Get the number of atoms in the molecule\n",
    "num_atoms = molecule.GetNumAtoms()\n",
    "print(f'The molecule has {num_atoms} atoms.')\n",
    "\n",
    "# Get the number of bonds in the molecule\n",
    "num_bonds = molecule.GetNumBonds()\n",
    "print(f'The molecule has {num_bonds} bonds.')\n"
   ]
  },
  {
   "cell_type": "markdown",
   "id": "d57d5627",
   "metadata": {},
   "source": [
    "### 4. Molecule Visualization\n",
    "RDKit provides tools for visualizing molecules. We can use the rdkit.Chem.Draw module to display molecules."
   ]
  },
  {
   "cell_type": "code",
   "execution_count": null,
   "id": "c530b972",
   "metadata": {},
   "outputs": [],
   "source": [
    "from rdkit import Chem\n",
    "from rdkit.Chem import Draw\n",
    "\n",
    "molecule = Chem.MolFromSmiles('CC1([C@@H](N2[C@H](S1)[C@@H](C2=O)NC(=O)Cc3ccccc3)C(=O)O)C')\n",
    "\n",
    "# Draw the molecule\n",
    "Draw.MolToImage(molecule)"
   ]
  },
  {
   "cell_type": "markdown",
   "id": "586862c4",
   "metadata": {},
   "source": [
    "### 5. Molecular Descriptors\n",
    "Molecular descriptors are numerical values that describe the properties of molecules. RDKit provides functions to calculate various descriptors."
   ]
  },
  {
   "cell_type": "code",
   "execution_count": null,
   "id": "30b58687",
   "metadata": {},
   "outputs": [],
   "source": [
    "from rdkit.Chem import Descriptors\n",
    "\n",
    "# Calculate molecular weight\n",
    "mol_weight = Descriptors.MolWt(molecule)\n",
    "print(f'Molecular Weight: {mol_weight}')\n",
    "\n",
    "# Calculate the number of hydrogen bond donors\n",
    "num_h_donors = Descriptors.NumHDonors(molecule)\n",
    "print(f'Number of Hydrogen Bond Donors: {num_h_donors}')\n",
    "\n",
    "# Calculate the number of hydrogen bond acceptors\n",
    "num_h_acceptors = Descriptors.NumHAcceptors(molecule)\n",
    "print(f'Number of Hydrogen Bond Acceptors: {num_h_acceptors}')\n"
   ]
  },
  {
   "cell_type": "markdown",
   "id": "fd868152",
   "metadata": {},
   "source": [
    "### 6. File Reading and Writing\n",
    "RDKit allows you to read and write molecule files in various formats, such as SDF, MOL, and SMILES. This section will cover how to read and write these files using RDKit."
   ]
  },
  {
   "cell_type": "code",
   "execution_count": null,
   "id": "095d1047",
   "metadata": {},
   "outputs": [],
   "source": [
    "from rdkit import Chem\n",
    "\n",
    "# Reading a molecule from a SMILES string\n",
    "smiles = 'CCO'\n",
    "molecule = Chem.MolFromSmiles(smiles)\n",
    "\n",
    "# Writing the molecule to a file in SDF format\n",
    "with Chem.SDWriter('molecule.sdf') as writer:\n",
    "    writer.write(molecule)\n",
    "\n",
    "# Reading a molecule from an SDF file\n",
    "with Chem.SDMolSupplier('molecule.sdf') as supplier:\n",
    "    mol_from_file = next(supplier)\n",
    "\n",
    "# Confirming the molecule is read correctly\n",
    "print(Chem.MolToSmiles(mol_from_file))\n"
   ]
  },
  {
   "cell_type": "markdown",
   "id": "83ac78ad",
   "metadata": {},
   "source": [
    "### 7. Practice Exercises\n",
    "Here are some exercises to practice what you've learned:\n",
    "\n",
    "1. Create a molecule from the SMILES string 'CCO' and display it.\n",
    "2. Calculate and print the molecular weight, number of hydrogen bond donors, and number of hydrogen bond acceptors for the molecule 'CCO'.\n",
    "3. Create a molecule from the SMILES string 'CCC(=O)O' and check if it contains a carboxyl group ([C(=O)O]).\n",
    "\n",
    "\n",
    "Here's an example of how to approach these exercises:"
   ]
  },
  {
   "cell_type": "code",
   "execution_count": null,
   "id": "394be1b9",
   "metadata": {},
   "outputs": [],
   "source": [
    "# Exercise 1: Find your favorite molecule in SMILES format\n",
    "smiles = ... \n",
    "molecule = ... # TODO: Create a molecule object from the SMILES string\n",
    "... # TODO: Display the molecule"
   ]
  },
  {
   "cell_type": "code",
   "execution_count": null,
   "id": "e36fd3c9",
   "metadata": {},
   "outputs": [],
   "source": [
    "# Exercise 2: Calculate molecular weight, number of hydrogen bond donors, and number of hydrogen bond acceptors\n",
    "mol_weight = ...\n",
    "num_h_donors = ...\n",
    "num_h_acceptors = ...\n",
    "print(f'Molecular Weight: {mol_weight}')\n",
    "print(f'Number of Hydrogen Bond Donors: {num_h_donors}')\n",
    "print(f'Number of Hydrogen Bond Acceptors: {num_h_acceptors}')"
   ]
  },
  {
   "cell_type": "code",
   "execution_count": null,
   "id": "5b8c7d3d",
   "metadata": {},
   "outputs": [],
   "source": [
    "# Exercise 3: Save the molecule to an SDF file, then read it back.\n",
    "filename = 'molecule.sdf'\n",
    "... # TODO: Write the molecule to an SDF file\n",
    "... # TODO: Read the molecule from the SDF file\n",
    "\n",
    "assert Chem.MolToSmiles(molecule) == Chem.MolToSmiles(mol_from_file), \"Molecule is not read correctly\""
   ]
  }
 ],
 "metadata": {
  "kernelspec": {
   "display_name": "biopy",
   "language": "python",
   "name": "python3"
  },
  "language_info": {
   "codemirror_mode": {
    "name": "ipython",
    "version": 3
   },
   "file_extension": ".py",
   "mimetype": "text/x-python",
   "name": "python",
   "nbconvert_exporter": "python",
   "pygments_lexer": "ipython3",
   "version": "3.11.4"
  }
 },
 "nbformat": 4,
 "nbformat_minor": 5
}
