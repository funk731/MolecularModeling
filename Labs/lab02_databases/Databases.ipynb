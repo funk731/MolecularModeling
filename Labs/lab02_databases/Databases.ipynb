{
 "cells": [
  {
   "cell_type": "markdown",
   "metadata": {},
   "source": [
    "# Databases\n",
    "\n",
    "**Topics:**\n",
    "\n",
    "* [Databases](#databases)"
   ]
  },
  {
   "cell_type": "markdown",
   "metadata": {},
   "source": [
    "## Databases\n",
    "\n",
    "### Table of Contents\n",
    "\n",
    "1. [ChEMBL Database](#chembl-database)\n",
    "2. [PubChem Database](#pubchem-database)\n",
    "3. [PDB Database](#pdb-database)\n"
   ]
  },
  {
   "cell_type": "markdown",
   "metadata": {},
   "source": [
    "### ChEMBL Database\n",
    "\n",
    "<div style=\"text-align: center\"><img src=\"images/ChEMBL_web_service_diagram.png\" width=\"75%\"></div>\n",
    "\n",
    "**ChEMBL Database** is a manually curated database of bioactive molecules with drug-like properties. It contains information on approximately 2 million compounds, their bioactivities, and associated drug targets. The data in ChEMBL is derived from scientific literature and is often used in drug discovery and development processes.\n",
    "\n",
    "**Data fetching and downloading from ChEMBL** can be efficiently done using the ChEMBL Web Resource Client, which allows easy access to ChEMBL data via the REST API. Researchers can query for molecules, targets, and bioactivities using various filters and retrieve data in a structured format for further analysis.\n",
    "\n",
    "To learn more about how ChEMBL Web Resource Client, you can visit their [github](https://github.com/chembl/chembl_webresource_client) and [paper](https://www.ncbi.nlm.nih.gov/pmc/articles/PMC4489243/)\n",
    "\n",
    "To get a sense of how useful ChEMBL Web Resource Client is, we will walk through a few examples:\n",
    "* How to retrieve molecules from ChEMBL\n",
    "* Retrieving protein target-based data\n",
    "* Retrieving bioactivity data"
   ]
  },
  {
   "cell_type": "code",
   "execution_count": null,
   "metadata": {},
   "outputs": [],
   "source": [
    "from chembl_webresource_client.new_client import new_client\n",
    "\n",
    "# available data entities\n",
    "available_resources = [resource for resource in dir(new_client) if not resource.startswith('_')]\n",
    "print(available_resources)"
   ]
  },
  {
   "cell_type": "markdown",
   "metadata": {},
   "source": [
    "**Available filters**\n",
    "\n",
    "The design of the client is based on [Django QuerySet](https://docs.djangoproject.com/en/1.11/ref/models/querysets) and most important lookup types are supported. These are:\n",
    "\n",
    "- exact\n",
    "- iexact\n",
    "- contains\n",
    "- icontains\n",
    "- in\n",
    "- gt\n",
    "- gte\n",
    "- lt\n",
    "- lte\n",
    "- startswith\n",
    "- istartswith\n",
    "- endswith\n",
    "- iendswith\n",
    "- range\n",
    "- isnull\n",
    "- regex\n",
    "- iregex\n",
    "\n",
    "\n",
    "**Only operator**\n",
    "\n",
    "`only` is a special method allowing to limit the results to a selected set of fields. `only` should take a single argument: a list of fields that should be included in result. Specified fields have to exists in the endpoint against which `only` is executed. Using `only` will usually make an API call faster because less information returned will save bandwidth. The API logic will also check if any SQL joins are necessary to return the specified field and exclude unnecessary joins with critically improves performance.\n",
    "\n",
    "Please note that only has one limitation: a list of fields will ignore nested fields i.e. calling `only(['molecule_properties__alogp'])` is equivalent to `only(['molecule_properties'])`.\n",
    "\n",
    "For many-to-many relationships only will not make any SQL join optimisation."
   ]
  },
  {
   "cell_type": "markdown",
   "metadata": {},
   "source": [
    "#### Molecules\n",
    "\n",
    "Molecule records may be retrieved in a number of ways. We will go through some examples."
   ]
  },
  {
   "cell_type": "code",
   "execution_count": null,
   "metadata": {},
   "outputs": [],
   "source": [
    "# find a molecule by pref_name\n",
    "molecule = new_client.molecule\n",
    "mols = molecule.filter(pref_name__iexact='aspirin')\n",
    "print(mols)"
   ]
  },
  {
   "cell_type": "code",
   "execution_count": null,
   "metadata": {},
   "outputs": [],
   "source": [
    "# use of only() to retrieve only specific fields\n",
    "molecule = new_client.molecule\n",
    "mols = molecule.filter(pref_name__iexact='aspirin').only('molecule_chembl_id', 'pref_name')\n",
    "print(mols)"
   ]
  },
  {
   "cell_type": "code",
   "execution_count": null,
   "metadata": {},
   "outputs": [],
   "source": [
    "# get many molecules by their ChEMBL IDs\n",
    "molecule = new_client.molecule\n",
    "mols = molecule.filter(molecule_chembl_id__in=['CHEMBL25', 'CHEMBL112', 'CHEMBL521']).only('molecule_chembl_id', 'pref_name')\n",
    "print(mols)"
   ]
  },
  {
   "cell_type": "code",
   "execution_count": null,
   "metadata": {},
   "outputs": [],
   "source": [
    "from IPython.display import SVG\n",
    "\n",
    "# get image of a molecule\n",
    "image = new_client.image\n",
    "image.set_format('svg')\n",
    "img = image.get('CHEMBL25')\n",
    "SVG(img)"
   ]
  },
  {
   "cell_type": "code",
   "execution_count": null,
   "metadata": {},
   "outputs": [],
   "source": [
    "# get molecule structure\n",
    "molecule = new_client.molecule\n",
    "mols = molecule.filter(molecule_chembl_id='CHEMBL25').only('molecule_structures')\n",
    "print(mols)"
   ]
  },
  {
   "cell_type": "code",
   "execution_count": null,
   "metadata": {},
   "outputs": [],
   "source": [
    "# find molecules similar to a given SMILES query with similarity threshold of 80%\n",
    "similarity = new_client.similarity\n",
    "mols = similarity.filter(smiles='CC(=O)Oc1ccccc1C(=O)O', similarity=80).only('molecule_chembl_id', 'pref_name')\n",
    "for mol in mols:\n",
    "    print(mol)"
   ]
  },
  {
   "cell_type": "code",
   "execution_count": null,
   "metadata": {},
   "outputs": [],
   "source": [
    "# find molecules similar to a given ChEMBL ID with similarity threshold of 70%\n",
    "similarity = new_client.similarity\n",
    "mols = similarity.filter(chembl_id='CHEMBL25', similarity=80).only('molecule_chembl_id', 'pref_name')\n",
    "for mol in mols:\n",
    "    print(mol)"
   ]
  },
  {
   "cell_type": "code",
   "execution_count": null,
   "metadata": {},
   "outputs": [],
   "source": [
    "# get all approved drugs\n",
    "molecule = new_client.molecule\n",
    "approved_drugs = molecule.filter(max_phase=4).only('molecule_chembl_id', 'pref_name').order_by('molecule_properties__mw_freebase')\n",
    "approved_drugs"
   ]
  },
  {
   "cell_type": "code",
   "execution_count": null,
   "metadata": {},
   "outputs": [],
   "source": [
    "# get approved drugs for lung cancer\n",
    "drug_indication = new_client.drug_indication\n",
    "molecule = new_client.molecule\n",
    "\n",
    "lung_cancer_ind = drug_indication.filter(efo_term__icontains='LUNG CARCINOMA')\n",
    "chembl_ids = [x['molecule_chembl_id'] for x in lung_cancer_ind]\n",
    "lung_cancer_drugs = molecule.filter(molecule_chembl_id__in=chembl_ids).only('molecule_chembl_id', 'pref_name')\n",
    "print(len(lung_cancer_drugs))\n",
    "lung_cancer_drugs"
   ]
  },
  {
   "cell_type": "code",
   "execution_count": null,
   "metadata": {},
   "outputs": [],
   "source": [
    "# filter drugs by approval year and name\n",
    "drug = new_client.drug\n",
    "res = drug.filter(first_approval__gte=1980).filter(usan_stem=\"-azosin\").only('molecule_chembl_id', 'first_approval', 'usan_stem', 'usan_stem_definition')\n",
    "res"
   ]
  },
  {
   "cell_type": "code",
   "execution_count": null,
   "metadata": {},
   "outputs": [],
   "source": [
    "# get all biotherapeutics\n",
    "molecule = new_client.molecule\n",
    "biotherapeutics = molecule.filter(biotherapeutic__isnull=False)\n",
    "len(biotherapeutics)"
   ]
  },
  {
   "cell_type": "code",
   "execution_count": null,
   "metadata": {},
   "outputs": [],
   "source": [
    "# get molecules with molecular weight between 100 and 200\n",
    "molecule = new_client.molecule\n",
    "mols = molecule.filter(molecule_properties__mw_freebase__gte=100, molecule_properties__mw_freebase__lte=200)\n",
    "print(len(mols))"
   ]
  },
  {
   "cell_type": "code",
   "execution_count": null,
   "metadata": {},
   "outputs": [],
   "source": [
    "# get molecules with molecular weight <= 300 and ends with 'nib'\n",
    "molecule = new_client.molecule\n",
    "light_nib_molecules = molecule.filter(molecule_properties__mw_freebase__lte=300, pref_name__iendswith=\"nib\").only(['molecule_chembl_id', 'pref_name'])\n",
    "light_nib_molecules"
   ]
  },
  {
   "cell_type": "code",
   "execution_count": null,
   "metadata": {},
   "outputs": [],
   "source": [
    "# get molecules with no violations of Lipinski's rule of five\n",
    "# Lipinski's rule of five states that a molecule is more likely to be orally bioavailable if it has:\n",
    "# - no more than 5 hydrogen bond donors\n",
    "# - no more than 10 hydrogen bond acceptors\n",
    "# - a molecular weight less than 500\n",
    "# - Calculated log of octanol-water partition (clogP) less than 5\n",
    "molecule = new_client.molecule\n",
    "no_violations = molecule.filter(molecule_properties__num_ro5_violations=0)\n",
    "len(no_violations)"
   ]
  },
  {
   "cell_type": "markdown",
   "metadata": {},
   "source": [
    "#### Targets\n",
    "\n",
    "Examples of retrieving target data from ChEMBL:"
   ]
  },
  {
   "cell_type": "code",
   "execution_count": null,
   "metadata": {},
   "outputs": [],
   "source": [
    "from chembl_webresource_client.new_client import new_client\n",
    "\n",
    "# get targets for a given gene name\n",
    "target = new_client.target\n",
    "gene_name = 'BRD4'\n",
    "res = target.filter(target_synonym__icontains=gene_name).only(['organism', 'pref_name', 'target_chembl_id', 'target_type'])\n",
    "for i in res:\n",
    "    print(i)"
   ]
  },
  {
   "cell_type": "code",
   "execution_count": null,
   "metadata": {},
   "outputs": [],
   "source": [
    "# get target for a given ChEMBL ID\n",
    "target = new_client.target\n",
    "res = target.filter(target_chembl_id='CHEMBL217').only(['organism', 'pref_name', 'target_chembl_id', 'target_type'])\n",
    "for i in res:\n",
    "    print(i)"
   ]
  },
  {
   "cell_type": "code",
   "execution_count": null,
   "metadata": {},
   "outputs": [],
   "source": [
    "# get targets for a given uniprot ID\n",
    "target = new_client.target\n",
    "targets = target.filter(target_components__accession='P04629').only(['organism', 'pref_name', 'target_chembl_id', 'target_type'])\n",
    "for i in targets:\n",
    "    print(i)"
   ]
  },
  {
   "cell_type": "markdown",
   "metadata": {},
   "source": [
    "#### Activities\n",
    "\n",
    "Examples of retrieving activity data from ChEMBL:"
   ]
  },
  {
   "cell_type": "code",
   "execution_count": null,
   "metadata": {},
   "outputs": [],
   "source": [
    "from chembl_webresource_client.new_client import new_client\n",
    "\n",
    "# get all activities for a given target\n",
    "target = new_client.target\n",
    "activity = new_client.activity\n",
    "herg = target.filter(pref_name__iexact='hERG').only('target_chembl_id')[0]\n",
    "herg_activities = activity.filter(target_chembl_id=herg['target_chembl_id']).filter(standard_type=\"IC50\")\n",
    "\n",
    "len(herg_activities)"
   ]
  },
  {
   "cell_type": "code",
   "execution_count": null,
   "metadata": {},
   "outputs": [],
   "source": [
    "# get all activities for a given target with assay type of B (binding)\n",
    "activity = new_client.activity\n",
    "activities = activity.filter(target_chembl_id='CHEMBL1824', assay_type='B')\n",
    "len(activities)"
   ]
  },
  {
   "cell_type": "code",
   "execution_count": null,
   "metadata": {},
   "outputs": [],
   "source": [
    "# get all activities with a pChEMBL for a molecule\n",
    "activity = new_client.activity\n",
    "activities = activity.filter(molecule_chembl_id='CHEMBL25', pchembl_value__isnull=False)\n",
    "len(activities)"
   ]
  },
  {
   "cell_type": "code",
   "execution_count": null,
   "metadata": {},
   "outputs": [],
   "source": [
    "from chembl_webresource_client import new_client\n",
    "\n"
   ]
  },
  {
   "cell_type": "markdown",
   "metadata": {},
   "source": [
    "### PubChem Database\n",
    "\n",
    "**PubChem Database** is an open chemistry database maintained by the NCBI, containing information on the biological activities of small molecules. It includes three main databases: Substance, Compound, and BioAssay, providing a comprehensive overview of the chemical and biological properties of molecules.\n",
    "\n",
    "**The PUG REST (Power User Gateway Representational State Transfer) web service** is an API provided by PubChem that allows users to programmatically access the data in PubChem. It supports a variety of queries, including searching for chemical compounds, retrieving molecular information, and accessing biological assay data. \n",
    "\n",
    "To learn more about PUG REST, visit the [PUG REST website](https://pubchemdocs.ncbi.nlm.nih.gov/pug-rest) and the [tutorial](https://pubchem.ncbi.nlm.nih.gov/pug_rest/PUG_REST_Tutorial.html) provided by PubChem.\n",
    "\n",
    "In the following examples we will be using [PubChemPy](https://pubchempy.readthedocs.io/en/latest/index.html) Python package. This is a simplified wrapper around PUG REST. However, it does not contain all the useful features of PUG REST. For more more complicated data pipelines, you should refer to the [PUG REST website](https://pubchemdocs.ncbi.nlm.nih.gov/pug-rest)."
   ]
  },
  {
   "cell_type": "code",
   "execution_count": null,
   "metadata": {},
   "outputs": [],
   "source": [
    "import pubchempy as pcp\n",
    "\n",
    "# get compound by CID\n",
    "compound = pcp.Compound.from_cid(5090)\n",
    "compound.to_dict()"
   ]
  },
  {
   "cell_type": "code",
   "execution_count": null,
   "metadata": {},
   "outputs": [],
   "source": [
    "# access compound properties\n",
    "compound = pcp.Compound.from_cid(5090)\n",
    "print(compound.synonyms)\n",
    "print(compound.isomeric_smiles)\n",
    "print(compound.molecular_formula)\n",
    "print(compound.molecular_weight)\n",
    "print(compound.xlogp)"
   ]
  },
  {
   "cell_type": "code",
   "execution_count": null,
   "metadata": {},
   "outputs": [],
   "source": [
    "# search for compounds by an identifier\n",
    "# first arg: identifier\n",
    "# second arg: namespace or identifier_type, e.g. 'name', 'smiles', 'inchi', 'inchikey'\n",
    "compounds = pcp.get_compounds('acetaminophen', 'name')\n",
    "print(compounds)\n",
    "print(compounds[0].isomeric_smiles)"
   ]
  },
  {
   "cell_type": "code",
   "execution_count": null,
   "metadata": {},
   "outputs": [],
   "source": [
    "# search for compounds by SMILES\n",
    "compounds = pcp.get_compounds('CC(=O)Nc1ccc(O)cc1', 'smiles')\n",
    "print(compounds)\n",
    "print(compounds[0].synonyms)"
   ]
  },
  {
   "cell_type": "code",
   "execution_count": null,
   "metadata": {},
   "outputs": [],
   "source": [
    "# retrieve only specific properties\n",
    "compounds = pcp.get_properties(['IsomericSMILES', 'MolecularFormula', 'MolecularWeight'], 'CC(=O)Nc1ccc(O)cc1', 'smiles')\n",
    "print(compounds)"
   ]
  },
  {
   "cell_type": "code",
   "execution_count": null,
   "metadata": {},
   "outputs": [],
   "source": [
    "# search for compounds by similarity\n",
    "compounds = pcp.get_compounds('CC(=O)Nc1ccc(O)cc1', 'smiles', searchtype='similarity', Threshold=90)\n",
    "print(len(compounds))"
   ]
  },
  {
   "cell_type": "markdown",
   "metadata": {},
   "source": [
    "### PDB Database\n",
    "\n",
    "**The Protein Data Bank (PDB)** is a repository for the 3D structural data of large biological molecules. It is widely used in structural biology, molecular modeling, and bioinformatics to study the structure-function relationships of biomolecules.\n",
    "\n",
    "**[Biopython](https://biopython.org/) package** is an open-source collection of tools for biological computation written in Python. It provides functionalities for working with sequences, structures, and other biological data, making it widely used in bioinformatics and computational biology.\n",
    "\n",
    "`biopython` includes modules specifically designed for handling and analyzing structural data from PDB files. The `Bio.PDB` module allows users to parse PDB files, manipulate protein structures, and extract detailed information such as atoms, residues, chains, and secondary structure elements. This makes `biopython` an essential tool for researchers working with 3D biomolecular structures, enabling them to easily integrate structural data into their analyses and workflows.\n",
    "\n",
    "<div style=\"text-align: center\"><img src=\"images/biopython_structure.png\" width=\"50%\"/></div>\n",
    "\n",
    "**[NGLView](https://nglviewer.org/nglview/latest/) package** is a Python package that provides an interactive widget for visualizing molecular structures directly in Jupyter notebooks. It is built on top of the NGL.js library and allows users to load, display, and interact with 3D structures from formats like PDB, MOL2, and others. With `nglview`, you can rotate, zoom, and explore molecular models, making it a powerful tool for visualizing biomolecular data in a user-friendly and interactive manner.\n",
    "\n",
    "We will use `biopython` to explore PDB and manipulate protein structures retrieved directly from PDB. Additionally, we will use `nglview` to display prtotein structure within a Jupyter notebook environment."
   ]
  },
  {
   "cell_type": "code",
   "execution_count": null,
   "metadata": {},
   "outputs": [],
   "source": [
    "from Bio.PDB import PDBList\n",
    "\n",
    "# download a PDB file\n",
    "pdbl = PDBList()\n",
    "pdbl.retrieve_pdb_file('6JIM', pdir='./data', file_format='mmCif')"
   ]
  },
  {
   "cell_type": "code",
   "execution_count": null,
   "metadata": {},
   "outputs": [],
   "source": [
    "# download multiple PDB files\n",
    "pdbl = PDBList()\n",
    "pdbl.download_pdb_files(['6JIM', '1FAT'], pdir='./data', file_format='mmCif')"
   ]
  },
  {
   "cell_type": "code",
   "execution_count": null,
   "metadata": {},
   "outputs": [],
   "source": [
    "# download entire PDB\n",
    "# this will take 2-4 days\n",
    "pdbl = PDBList()\n",
    "# pdbl.download_entire_pdb(file_format='mmCif')"
   ]
  },
  {
   "cell_type": "code",
   "execution_count": null,
   "metadata": {},
   "outputs": [],
   "source": [
    "# update the local copy of the PDB\n",
    "pdbl = PDBList()\n",
    "# pdbl.update_pdb(file_format='mmCif')"
   ]
  },
  {
   "cell_type": "code",
   "execution_count": null,
   "metadata": {},
   "outputs": [],
   "source": [
    "from Bio.PDB import MMCIFParser\n",
    "\n",
    "# biopython Structure object\n",
    "parser = MMCIFParser()\n",
    "structure = parser.get_structure('6JIM', './data/6jim.cif')\n",
    "structure"
   ]
  },
  {
   "cell_type": "code",
   "execution_count": null,
   "metadata": {},
   "outputs": [],
   "source": [
    "# iterate over the structure\n",
    "for model in structure:\n",
    "    for chain in model:\n",
    "        print(f'Chain {chain.get_id()}')\n",
    "        for residue in chain:\n",
    "            print(residue.get_id(), residue.get_resname(), end=': ')\n",
    "            for atom in residue:\n",
    "                print(atom.get_name(), end=',')\n",
    "            print()"
   ]
  },
  {
   "cell_type": "code",
   "execution_count": null,
   "metadata": {},
   "outputs": [],
   "source": [
    "# extract a specific atom from the structure\n",
    "model = structure[0]\n",
    "chain = model['A']\n",
    "residue = chain[50]\n",
    "atom = residue['CA']\n",
    "# alternatively\n",
    "atom = structure[0]['A'][50]['CA']\n",
    "# print some properties of the atom\n",
    "print(atom.element)\n",
    "print(atom.get_name())\n",
    "print(atom.get_coord())\n",
    "print(atom.get_bfactor())\n",
    "print(atom.get_occupancy())"
   ]
  },
  {
   "cell_type": "code",
   "execution_count": null,
   "metadata": {},
   "outputs": [],
   "source": [
    "# alternative way to navigate the structure\n",
    "# iterate over the models\n",
    "print('Models:')\n",
    "for model in structure.get_models():\n",
    "    print(model.get_id(), end=',')\n",
    "print()\n",
    "# iterate over the chains\n",
    "print('Chains:')\n",
    "for chain in structure.get_chains():\n",
    "    print(chain.get_id(), end=',')\n",
    "print()\n",
    "# iterate over the residues\n",
    "print('Residues:')\n",
    "for residue in structure.get_residues():\n",
    "    print(residue.get_resname(), end=',')\n",
    "print()\n",
    "# iterate over the atoms\n",
    "print('Atoms:')\n",
    "for atom in structure.get_atoms():\n",
    "    print(atom.get_name(), end=',')"
   ]
  },
  {
   "cell_type": "code",
   "execution_count": null,
   "metadata": {},
   "outputs": [],
   "source": [
    "# modifying the structure\n",
    "chain_A = structure[0]['A']\n",
    "# find all water residues\n",
    "res_ids_to_remove = []\n",
    "for residue in chain_A.get_residues():\n",
    "    if residue.get_id()[0] == 'W':\n",
    "        res_ids_to_remove.append(residue.get_id())\n",
    "\n",
    "# remove the water residues\n",
    "for res_id in res_ids_to_remove[::-1]:\n",
    "    chain_A.detach_child(res_id)\n",
    "\n",
    "# print the modified structure to verify the removal\n",
    "for residue in structure[0]['A'].get_residues():\n",
    "    print(residue.get_id(), residue.get_resname())"
   ]
  },
  {
   "cell_type": "code",
   "execution_count": null,
   "metadata": {},
   "outputs": [],
   "source": [
    "# let's make the above code into a function\n",
    "def remove_water(chain_id, structure):\n",
    "    chain = structure[0][chain_id]\n",
    "    res_ids_to_remove = []\n",
    "    for residue in chain.get_residues():\n",
    "        if residue.get_id()[0] == 'W':\n",
    "            res_ids_to_remove.append(residue.get_id())\n",
    "    for res_id in res_ids_to_remove[::-1]:\n",
    "        chain.detach_child(res_id)\n",
    "\n",
    "# run the function for all chains in the structure\n",
    "for chain in structure.get_chains():\n",
    "    remove_water(chain.get_id(), structure)"
   ]
  },
  {
   "cell_type": "code",
   "execution_count": null,
   "metadata": {},
   "outputs": [],
   "source": [
    "from Bio.PDB import PDBIO\n",
    "\n",
    "# save the modified structure\n",
    "io = PDBIO()\n",
    "io.set_structure(structure)\n",
    "io.save('./data/6jim_modified.pdb')"
   ]
  },
  {
   "cell_type": "code",
   "execution_count": null,
   "metadata": {},
   "outputs": [],
   "source": [
    "import nglview as nv\n",
    "\n",
    "# view structure in nglview\n",
    "view = nv.show_biopython(structure)\n",
    "view"
   ]
  }
 ],
 "metadata": {
  "kernelspec": {
   "display_name": "biopy",
   "language": "python",
   "name": "python3"
  },
  "language_info": {
   "codemirror_mode": {
    "name": "ipython",
    "version": 3
   },
   "file_extension": ".py",
   "mimetype": "text/x-python",
   "name": "python",
   "nbconvert_exporter": "python",
   "pygments_lexer": "ipython3",
   "version": "3.11.4"
  }
 },
 "nbformat": 4,
 "nbformat_minor": 2
}
